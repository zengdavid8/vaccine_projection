{
 "cells": [
  {
   "cell_type": "code",
   "execution_count": 1,
   "metadata": {},
   "outputs": [],
   "source": [
    "import csv\n",
    "import pandas as pd\n",
    "import matplotlib.pyplot as plt\n",
    "import numpy as np"
   ]
  },
  {
   "cell_type": "code",
   "execution_count": 2,
   "metadata": {},
   "outputs": [
    {
     "data": {
      "text/html": [
       "<div>\n",
       "<style scoped>\n",
       "    .dataframe tbody tr th:only-of-type {\n",
       "        vertical-align: middle;\n",
       "    }\n",
       "\n",
       "    .dataframe tbody tr th {\n",
       "        vertical-align: top;\n",
       "    }\n",
       "\n",
       "    .dataframe thead th {\n",
       "        text-align: right;\n",
       "    }\n",
       "</style>\n",
       "<table border=\"1\" class=\"dataframe\">\n",
       "  <thead>\n",
       "    <tr style=\"text-align: right;\">\n",
       "      <th></th>\n",
       "      <th>Data is public domain from US government.</th>\n",
       "      <th>Unnamed: 1</th>\n",
       "      <th>Unnamed: 2</th>\n",
       "      <th>Unnamed: 3</th>\n",
       "      <th>Unnamed: 4</th>\n",
       "      <th>Unnamed: 5</th>\n",
       "      <th>Unnamed: 6</th>\n",
       "      <th>Unnamed: 7</th>\n",
       "      <th>Unnamed: 8</th>\n",
       "      <th>Unnamed: 9</th>\n",
       "      <th>Unnamed: 10</th>\n",
       "      <th>Unnamed: 11</th>\n",
       "      <th>Unnamed: 12</th>\n",
       "      <th>Unnamed: 13</th>\n",
       "      <th>Unnamed: 14</th>\n",
       "      <th>Unnamed: 15</th>\n",
       "      <th>Unnamed: 16</th>\n",
       "      <th>Unnamed: 17</th>\n",
       "      <th>Unnamed: 18</th>\n",
       "      <th>Unnamed: 19</th>\n",
       "    </tr>\n",
       "  </thead>\n",
       "  <tbody>\n",
       "    <tr>\n",
       "      <th>0</th>\n",
       "      <td>Compiled by combining information from files a...</td>\n",
       "      <td>NaN</td>\n",
       "      <td>NaN</td>\n",
       "      <td>NaN</td>\n",
       "      <td>NaN</td>\n",
       "      <td>NaN</td>\n",
       "      <td>NaN</td>\n",
       "      <td>NaN</td>\n",
       "      <td>NaN</td>\n",
       "      <td>NaN</td>\n",
       "      <td>NaN</td>\n",
       "      <td>NaN</td>\n",
       "      <td>NaN</td>\n",
       "      <td>NaN</td>\n",
       "      <td>NaN</td>\n",
       "      <td>NaN</td>\n",
       "      <td>NaN</td>\n",
       "      <td>NaN</td>\n",
       "      <td>NaN</td>\n",
       "      <td>NaN</td>\n",
       "    </tr>\n",
       "    <tr>\n",
       "      <th>1</th>\n",
       "      <td>NaN</td>\n",
       "      <td>NaN</td>\n",
       "      <td>NaN</td>\n",
       "      <td>NaN</td>\n",
       "      <td>NaN</td>\n",
       "      <td>NaN</td>\n",
       "      <td>NaN</td>\n",
       "      <td>NaN</td>\n",
       "      <td>NaN</td>\n",
       "      <td>NaN</td>\n",
       "      <td>NaN</td>\n",
       "      <td>NaN</td>\n",
       "      <td>NaN</td>\n",
       "      <td>NaN</td>\n",
       "      <td>NaN</td>\n",
       "      <td>NaN</td>\n",
       "      <td>NaN</td>\n",
       "      <td>NaN</td>\n",
       "      <td>NaN</td>\n",
       "      <td>NaN</td>\n",
       "    </tr>\n",
       "    <tr>\n",
       "      <th>2</th>\n",
       "      <td>Country</td>\n",
       "      <td>Region</td>\n",
       "      <td>Population</td>\n",
       "      <td>Area</td>\n",
       "      <td>Pop. Density</td>\n",
       "      <td>Coastline</td>\n",
       "      <td>Net migration</td>\n",
       "      <td>Infant mortality</td>\n",
       "      <td>GDP</td>\n",
       "      <td>Literacy</td>\n",
       "      <td>Phones</td>\n",
       "      <td>Arable</td>\n",
       "      <td>Crops</td>\n",
       "      <td>Other</td>\n",
       "      <td>Climate</td>\n",
       "      <td>Birthrate</td>\n",
       "      <td>Deathrate</td>\n",
       "      <td>Agriculture</td>\n",
       "      <td>Industry</td>\n",
       "      <td>Service</td>\n",
       "    </tr>\n",
       "    <tr>\n",
       "      <th>3</th>\n",
       "      <td>NaN</td>\n",
       "      <td>NaN</td>\n",
       "      <td>NaN</td>\n",
       "      <td>sq. mi.</td>\n",
       "      <td>per sq. mi.</td>\n",
       "      <td>coast/area ratio</td>\n",
       "      <td>NaN</td>\n",
       "      <td>per 1000 births</td>\n",
       "      <td>$ per capita</td>\n",
       "      <td>%</td>\n",
       "      <td>per 1000</td>\n",
       "      <td>%</td>\n",
       "      <td>%</td>\n",
       "      <td>%</td>\n",
       "      <td>NaN</td>\n",
       "      <td>NaN</td>\n",
       "      <td>NaN</td>\n",
       "      <td>NaN</td>\n",
       "      <td>NaN</td>\n",
       "      <td>NaN</td>\n",
       "    </tr>\n",
       "    <tr>\n",
       "      <th>4</th>\n",
       "      <td>Afghanistan</td>\n",
       "      <td>ASIA (EX. NEAR EAST)</td>\n",
       "      <td>31056997</td>\n",
       "      <td>647500</td>\n",
       "      <td>48.0</td>\n",
       "      <td>0.00</td>\n",
       "      <td>23.06</td>\n",
       "      <td>163.07</td>\n",
       "      <td>700</td>\n",
       "      <td>36.0</td>\n",
       "      <td>3.2</td>\n",
       "      <td>12.13</td>\n",
       "      <td>0.22</td>\n",
       "      <td>87.65</td>\n",
       "      <td>1</td>\n",
       "      <td>46.6</td>\n",
       "      <td>20.34</td>\n",
       "      <td>0.38</td>\n",
       "      <td>0.24</td>\n",
       "      <td>0.38</td>\n",
       "    </tr>\n",
       "  </tbody>\n",
       "</table>\n",
       "</div>"
      ],
      "text/plain": [
       "           Data is public domain from US government.  \\\n",
       "0  Compiled by combining information from files a...   \n",
       "1                                                NaN   \n",
       "2                                            Country   \n",
       "3                                                NaN   \n",
       "4                                       Afghanistan    \n",
       "\n",
       "                      Unnamed: 1  Unnamed: 2 Unnamed: 3    Unnamed: 4  \\\n",
       "0                            NaN         NaN        NaN           NaN   \n",
       "1                            NaN         NaN        NaN           NaN   \n",
       "2                         Region  Population       Area  Pop. Density   \n",
       "3                            NaN         NaN    sq. mi.   per sq. mi.   \n",
       "4  ASIA (EX. NEAR EAST)             31056997     647500          48.0   \n",
       "\n",
       "         Unnamed: 5     Unnamed: 6        Unnamed: 7    Unnamed: 8 Unnamed: 9  \\\n",
       "0               NaN            NaN               NaN           NaN        NaN   \n",
       "1               NaN            NaN               NaN           NaN        NaN   \n",
       "2         Coastline  Net migration  Infant mortality           GDP   Literacy   \n",
       "3  coast/area ratio            NaN   per 1000 births  $ per capita          %   \n",
       "4              0.00          23.06            163.07           700       36.0   \n",
       "\n",
       "  Unnamed: 10 Unnamed: 11 Unnamed: 12 Unnamed: 13 Unnamed: 14 Unnamed: 15  \\\n",
       "0         NaN         NaN         NaN         NaN         NaN         NaN   \n",
       "1         NaN         NaN         NaN         NaN         NaN         NaN   \n",
       "2      Phones      Arable       Crops       Other     Climate   Birthrate   \n",
       "3    per 1000           %           %           %         NaN         NaN   \n",
       "4         3.2       12.13        0.22       87.65           1        46.6   \n",
       "\n",
       "  Unnamed: 16  Unnamed: 17 Unnamed: 18 Unnamed: 19  \n",
       "0         NaN          NaN         NaN         NaN  \n",
       "1         NaN          NaN         NaN         NaN  \n",
       "2   Deathrate  Agriculture    Industry     Service  \n",
       "3         NaN          NaN         NaN         NaN  \n",
       "4       20.34         0.38        0.24        0.38  "
      ]
     },
     "execution_count": 2,
     "metadata": {},
     "output_type": "execute_result"
    }
   ],
   "source": [
    "cp = pd.read_csv('Countries of the world.csv')\n",
    "cp.head()"
   ]
  },
  {
   "cell_type": "code",
   "execution_count": 3,
   "metadata": {},
   "outputs": [
    {
     "data": {
      "text/plain": [
       "<bound method NDFrame.head of                                                Country  2017   2016   2015  \\\n",
       "0                                          Afghanistan    62     62     62   \n",
       "1                                              Albania    96     96     97   \n",
       "2                                              Algeria    88     94     95   \n",
       "3                                              Andorra    99     97     96   \n",
       "4                                               Angola    42     45     51   \n",
       "5                                  Antigua and Barbuda    88     88     91   \n",
       "6                                            Argentina    89     90     89   \n",
       "7                                              Armenia    96     97     97   \n",
       "8                                            Australia    95     95     95   \n",
       "9                                              Austria    96     95     96   \n",
       "10                                          Azerbaijan    98     98     98   \n",
       "11                                             Bahamas    90     89     94   \n",
       "12                                             Bahrain    99     99     99   \n",
       "13                                          Bangladesh    94     94     94   \n",
       "14                                            Barbados    92     92     96   \n",
       "15                                             Belarus    97     98     99   \n",
       "16                                             Belgium    96     96     96   \n",
       "17                                              Belize    90     95     96   \n",
       "18                                               Benin    74     74     74   \n",
       "19                                              Bhutan    97     97     97   \n",
       "20                    Bolivia (Plurinational State of)    83     94     95   \n",
       "21                              Bosnia and Herzegovina    69     68     83   \n",
       "22                                            Botswana    97     97     97   \n",
       "23                                              Brazil    97     95     96   \n",
       "24                                   Brunei Darussalam    97     98     96   \n",
       "25                                            Bulgaria    94     92     92   \n",
       "26                                        Burkina Faso    88     88     88   \n",
       "27                                             Burundi    90     93     93   \n",
       "28                                          Cabo Verde    96     93     92   \n",
       "29                                            Cambodia    84     84     84   \n",
       "..                                                 ...   ...    ...    ...   \n",
       "164                                              Sudan    90     86     87   \n",
       "165                                           Suriname    97     97     94   \n",
       "166                                             Sweden    97     97     97   \n",
       "167                                        Switzerland    95     94     94   \n",
       "168                               Syrian Arab Republic    67  62 62  53 53   \n",
       "169                                         Tajikistan    98     97     97   \n",
       "170                                           Thailand    99     99     99   \n",
       "171                        Republic of North Macedonia    83     82     89   \n",
       "172                                        Timor-Leste    70     70     70   \n",
       "173                                               Togo    91     87     85   \n",
       "174                                              Tonga    85  84 84  85 85   \n",
       "175                                Trinidad and Tobago    93     86     89   \n",
       "176                                            Tunisia    98     96     98   \n",
       "177                                             Turkey    96     98     97   \n",
       "178                                       Turkmenistan    99     99     99   \n",
       "179                                             Tuvalu    95     96     94   \n",
       "180                                             Uganda    80     80     80   \n",
       "181                                            Ukraine    86     42     56   \n",
       "182                               United Arab Emirates    99     99     99   \n",
       "183  United Kingdom of Great Britain and Northern I...    92     92     93   \n",
       "184                        United Republic of Tanzania    99     90     99   \n",
       "185                           United States of America    92     92     92   \n",
       "186                                            Uruguay    95     95     96   \n",
       "187                                         Uzbekistan    99     99     99   \n",
       "188                                            Vanuatu    80     84     76   \n",
       "189                 Venezuela (Bolivarian Republic of)    96     88     92   \n",
       "190                                           Viet Nam    97     99     97   \n",
       "191                                              Yemen    65     70     67   \n",
       "192                                             Zambia    96     93     90   \n",
       "193                                           Zimbabwe    90     95     86   \n",
       "\n",
       "      2014   2013   2012   2011   2010   2009  ...   1989   1988   1987  \\\n",
       "0       60     57     59     64     62     60  ...     22     34     31   \n",
       "1       98     99     98     99     99     97  ...     96     96     96   \n",
       "2       95     95     95     95     95     92  ...     82     81     73   \n",
       "3       96     95     98     99     99     98  ...    NaN    NaN    NaN   \n",
       "4       56     59     67     60     67     53  ...     48     56     55   \n",
       "5       93     96     98     99     98     99  ...     95     95     89   \n",
       "6       95     94     94     95     95     96  ...     89     87     80   \n",
       "7       97     97     97     97     97     96  ...    NaN    NaN    NaN   \n",
       "8       94     94     94     94     94     94  ...     85     77     68   \n",
       "9       96     92     88     84     80     76  ...     60     60     60   \n",
       "10      98     98     94     92     89     85  ...    NaN    NaN    NaN   \n",
       "11      92     92     91     90     94     98  ...     87     78     87   \n",
       "12      99     99     99     99     99     99  ...     85     78     78   \n",
       "13      94     91     88     93     88     93  ...     53     13      6   \n",
       "14      95     87     90     93     85     94  ...     85     84     85   \n",
       "15      99     99     98     99     99     99  ...    NaN    NaN    NaN   \n",
       "16      96     96     96     95     95     95  ...     75     75     50   \n",
       "17      95     99     96     98     98     97  ...     71     59     53   \n",
       "18      68     68     74     70     68     71  ...     48     30     26   \n",
       "19      97     94     95     95     95     94  ...     79     64     58   \n",
       "20      89     87     92     96     88     93  ...     59     58     57   \n",
       "21      89     92     94     89     91     93  ...    NaN    NaN    NaN   \n",
       "22      97     97     97     97     96     96  ...     87     87     87   \n",
       "23      97     98     99     99     99     99  ...     60     62     64   \n",
       "24      97     96     95     91     94     99  ...     99     99     99   \n",
       "25      93     95     94     95     97     96  ...     99     99     99   \n",
       "26      88     82     87     89     92     94  ...     66     52     37   \n",
       "27      94     98     93     93     92     91  ...     73     46     54   \n",
       "28      93     91     91     96     97     97  ...     84     80     75   \n",
       "29      83     79     84     88     90     92  ...     39     39     53   \n",
       "..     ...    ...    ...    ...    ...    ...  ...    ...    ...    ...   \n",
       "164     86     85     85     87     90     82  ...     61     44     22   \n",
       "165     85     93     73     85     90     88  ...     73     83     70   \n",
       "166     97     97     98     97     97     97  ...     95     95     94   \n",
       "167     94     93     93     93     92     92  ...     90     70     70   \n",
       "168  54 54  58 58  61 61  80 80  82 82  82 82  ...  86 86  52 52  37 37   \n",
       "169     98     92     94     98     94     89  ...    NaN    NaN    NaN   \n",
       "170     99     99     98     98     98     98  ...     66     63     52   \n",
       "171     93     96     96     97     98     96  ...    NaN    NaN    NaN   \n",
       "172     74     70     73     62     66     70  ...    NaN    NaN    NaN   \n",
       "173     82     72     72     72     68     66  ...     78     62     74   \n",
       "174  85 85  86 86  81 81  85 85  86 86  87 87  ...  84 84  81 81  88 88   \n",
       "175     96     91     85     92     92     94  ...     59     72     68   \n",
       "176     98     94     96     96     97     98  ...     93     87     81   \n",
       "177     94     98     96     98     97     97  ...     71     82     67   \n",
       "178     99     99     99     99     99     99  ...    NaN    NaN    NaN   \n",
       "179     94     96     98     98     85     90  ...     79     90     65   \n",
       "180     85     84     83     75     73     77  ...     51     49     38   \n",
       "181     56     79     79     67     56     75  ...    NaN    NaN    NaN   \n",
       "182     99     98     96     95     94     93  ...     78     74     71   \n",
       "183     93     93     92     90     89     86  ...     84     80     76   \n",
       "184     99     99     97     93     92     91  ...     79     83     78   \n",
       "185     92     92     91     92     92     90  ...     94     98     82   \n",
       "186     96     96     96     95     95     94  ...     82     72     88   \n",
       "187     99     97     99     99     98     95  ...    NaN    NaN    NaN   \n",
       "188     90     84     79     75     70     65  ...     50     46     34   \n",
       "189     89     85     87     86     79     87  ...     50     51     54   \n",
       "190     97     98     96     96     98     97  ...     76     56     36   \n",
       "191     67     70     63     66     68     65  ...     48     34     22   \n",
       "192     85     80     82     83     96     90  ...     80     80     80   \n",
       "193     92     93     97     92     90     76  ...     87     88     88   \n",
       "\n",
       "      1986   1985   1984   1983   1982   1981   1980  \n",
       "0       14     14     14      9      8    NaN     11  \n",
       "1       96     96     96     96     93     90     90  \n",
       "2       67     68    NaN    NaN    NaN    NaN    NaN  \n",
       "3      NaN    NaN    NaN    NaN    NaN    NaN    NaN  \n",
       "4       44     44     35     26    NaN    NaN    NaN  \n",
       "5       80     69     73     48    NaN    NaN    NaN  \n",
       "6       87     54     79     67     67     77     61  \n",
       "7      NaN    NaN    NaN    NaN    NaN    NaN    NaN  \n",
       "8       68     68     68     68    NaN    NaN    NaN  \n",
       "9       60     40     30     25     25     25    NaN  \n",
       "10     NaN    NaN    NaN    NaN    NaN    NaN    NaN  \n",
       "11      85     79     63     66     65    NaN    NaN  \n",
       "12      78     78     65     59     54     50     45  \n",
       "13       3      1      1      1      1    NaN    NaN  \n",
       "14      84     88     84     55     53     47     41  \n",
       "15     NaN    NaN    NaN    NaN    NaN    NaN    NaN  \n",
       "16      90     82     74     66     58     50    NaN  \n",
       "17      85     49     43     43     51     40     21  \n",
       "18      20     23    NaN    NaN    NaN    NaN    NaN  \n",
       "19      51     44     36     21     20     21     21  \n",
       "20      55     21     20     13     15     17     13  \n",
       "21     NaN    NaN    NaN    NaN    NaN    NaN    NaN  \n",
       "22      91     85     82     79     75     70     63  \n",
       "23      67     67     73     68     66     73     57  \n",
       "24      99     98     90     94     88     80     73  \n",
       "25      99     99     98     98     90     98     98  \n",
       "26      40     38    NaN    NaN    NaN    NaN    NaN  \n",
       "27      59     32     27     54     40     28    NaN  \n",
       "28      58     54    NaN    NaN    NaN    NaN    NaN  \n",
       "29      54     29     27    NaN    NaN    NaN    NaN  \n",
       "..     ...    ...    ...    ...    ...    ...    ...  \n",
       "164     11      6      3      2      1      1    NaN  \n",
       "165     78     73     75     71     17     39    NaN  \n",
       "166     94     94     94     93     91     92     88  \n",
       "167     70    NaN    NaN    NaN    NaN    NaN    NaN  \n",
       "168  64 64  27 27  23 23  19 19  22 22  14 14  13 13  \n",
       "169    NaN    NaN    NaN    NaN    NaN    NaN    NaN  \n",
       "170     45     26      5    NaN    NaN    NaN    NaN  \n",
       "171    NaN    NaN    NaN    NaN    NaN    NaN    NaN  \n",
       "172    NaN    NaN    NaN    NaN    NaN    NaN    NaN  \n",
       "173     43     27     11    NaN    NaN    NaN    NaN  \n",
       "174  37 37  81 81  43 43  67 67  44 44    9 9    NaN  \n",
       "175     42     32     10    NaN    NaN    NaN    NaN  \n",
       "176     67     65     55     42     43    NaN    NaN  \n",
       "177     64     61     62     63     64     52     27  \n",
       "178    NaN    NaN    NaN    NaN    NaN    NaN    NaN  \n",
       "179     65     92     71     65    NaN    NaN    NaN  \n",
       "180     27     17     18     20     21     22    NaN  \n",
       "181    NaN    NaN    NaN    NaN    NaN    NaN    NaN  \n",
       "182     67     60     53     51     41     42     34  \n",
       "183     71     68     63     60     58     55     53  \n",
       "184     97     66     55     60     50     51     46  \n",
       "185     97     97     98     98     97     97     86  \n",
       "186     82     59     66     65     52     55     50  \n",
       "187    NaN    NaN    NaN    NaN    NaN    NaN    NaN  \n",
       "188     22     26     18     23     20    NaN    NaN  \n",
       "189     48     56     41     42     45     43     50  \n",
       "190     39     19      4      3      1    NaN    NaN  \n",
       "191     15     13      8      6      4      4      2  \n",
       "192     58     58     57     56    NaN    NaN    NaN  \n",
       "193     83     78     62     60     58     56    NaN  \n",
       "\n",
       "[194 rows x 39 columns]>"
      ]
     },
     "execution_count": 3,
     "metadata": {},
     "output_type": "execute_result"
    }
   ],
   "source": [
    "vc = pd.read_csv('vac_perc_nation.csv')\n",
    "vc.head"
   ]
  },
  {
   "cell_type": "code",
   "execution_count": 4,
   "metadata": {
    "scrolled": true
   },
   "outputs": [
    {
     "data": {
      "text/plain": [
       "<bound method NDFrame.head of                                                Country    2017    2016  \\\n",
       "0                                          Afghanistan  1511.0   638.0   \n",
       "1                                              Albania    12.0    17.0   \n",
       "2                                              Algeria   112.0    41.0   \n",
       "3                                              Andorra     0.0     0.0   \n",
       "4                                               Angola    29.0    53.0   \n",
       "5                                  Antigua and Barbuda     0.0     0.0   \n",
       "6                                            Argentina     3.0     0.0   \n",
       "7                                              Armenia     1.0     2.0   \n",
       "8                                            Australia    81.0    99.0   \n",
       "9                                              Austria    95.0    27.0   \n",
       "10                                          Azerbaijan     0.0     0.0   \n",
       "11                                             Bahamas     0.0     0.0   \n",
       "12                                             Bahrain     0.0     0.0   \n",
       "13                                          Bangladesh  4001.0   972.0   \n",
       "14                                            Barbados     0.0     0.0   \n",
       "15                                             Belarus     1.0    10.0   \n",
       "16                                             Belgium   367.0     NaN   \n",
       "17                                              Belize     0.0     0.0   \n",
       "18                                               Benin    97.0    89.0   \n",
       "19                                              Bhutan    66.0    45.0   \n",
       "20                    Bolivia (Plurinational State of)     0.0     0.0   \n",
       "21                              Bosnia and Herzegovina    18.0   133.0   \n",
       "22                                            Botswana     0.0     1.0   \n",
       "23                                              Brazil     NaN     0.0   \n",
       "24                                   Brunei Darussalam     0.0     1.0   \n",
       "25                                            Bulgaria   165.0     1.0   \n",
       "26                                        Burkina Faso    49.0   226.0   \n",
       "27                                             Burundi    18.0    16.0   \n",
       "28                                          Cabo Verde     0.0     NaN   \n",
       "29                                            Cambodia    10.0    56.0   \n",
       "..                                                 ...     ...     ...   \n",
       "164                                              Sudan   665.0  1767.0   \n",
       "165                                           Suriname     0.0     NaN   \n",
       "166                                             Sweden    41.0     3.0   \n",
       "167                                        Switzerland   105.0    65.0   \n",
       "168                               Syrian Arab Republic   737.0    66.0   \n",
       "169                                         Tajikistan   654.0    52.0   \n",
       "170                                           Thailand  1946.0   652.0   \n",
       "171                        Republic of North Macedonia    19.0     0.0   \n",
       "172                                        Timor-Leste     0.0     2.0   \n",
       "173                                               Togo    46.0    15.0   \n",
       "174                                              Tonga     0.0     0.0   \n",
       "175                                Trinidad and Tobago     0.0     0.0   \n",
       "176                                            Tunisia     5.0     7.0   \n",
       "177                                             Turkey    84.0     9.0   \n",
       "178                                       Turkmenistan     0.0     0.0   \n",
       "179                                             Tuvalu     NaN     NaN   \n",
       "180                                             Uganda  1021.0   139.0   \n",
       "181                                            Ukraine  4782.0   102.0   \n",
       "182                               United Arab Emirates   121.0   223.0   \n",
       "183  United Kingdom of Great Britain and Northern I...   364.0   558.0   \n",
       "184                        United Republic of Tanzania   852.0    33.0   \n",
       "185                           United States of America     NaN     NaN   \n",
       "186                                            Uruguay     NaN     0.0   \n",
       "187                                         Uzbekistan     0.0     1.0   \n",
       "188                                            Vanuatu     NaN     NaN   \n",
       "189                 Venezuela (Bolivarian Republic of)   727.0     0.0   \n",
       "190                                           Viet Nam   227.0    46.0   \n",
       "191                                              Yemen   433.0   143.0   \n",
       "192                                             Zambia    13.0     8.0   \n",
       "193                                           Zimbabwe     1.0     1.0   \n",
       "\n",
       "       2015     2014    2013     2012     2011     2010     2009  ...  \\\n",
       "0    1154.0    492.0   430.0   2787.0   3013.0   1989.0   2861.0  ...   \n",
       "1       NaN      NaN     0.0      9.0     28.0     10.0      0.0  ...   \n",
       "2      63.0      0.0    25.0     18.0    112.0    103.0    107.0  ...   \n",
       "3       NaN      NaN     0.0      0.0      0.0      0.0      0.0  ...   \n",
       "4     119.0  11699.0  8523.0   4458.0   1449.0   1190.0   2807.0  ...   \n",
       "5       0.0      0.0     0.0      0.0      0.0      0.0      0.0  ...   \n",
       "6       0.0      1.0     0.0      2.0      3.0     17.0      3.0  ...   \n",
       "7      33.0     13.0    10.0      0.0      0.0      2.0      0.0  ...   \n",
       "8      74.0    340.0   158.0    199.0    190.0     70.0    104.0  ...   \n",
       "9     309.0    117.0     NaN     36.0     68.0     52.0     49.0  ...   \n",
       "10      0.0      0.0   164.0      0.0      0.0      0.0      NaN  ...   \n",
       "11      0.0      0.0     0.0      0.0      0.0      0.0      0.0  ...   \n",
       "12      0.0     46.0     NaN      0.0      0.0      0.0      3.0  ...   \n",
       "13    240.0    289.0   237.0   1986.0   5625.0    788.0    718.0  ...   \n",
       "14      0.0      0.0     0.0      0.0      0.0      0.0      0.0  ...   \n",
       "15      2.0     64.0    16.0     10.0     50.0      1.0      0.0  ...   \n",
       "16     47.0     70.0    39.0    109.0    576.0     40.0     33.0  ...   \n",
       "17      0.0      0.0     0.0      0.0      0.0      0.0      0.0  ...   \n",
       "18     55.0    786.0   637.0    288.0    426.0    392.0   1461.0  ...   \n",
       "19     11.0      0.0     0.0      1.0     10.0     21.0      6.0  ...   \n",
       "20      0.0      0.0     0.0      0.0      0.0      0.0      0.0  ...   \n",
       "21   1677.0   3000.0     NaN     22.0     10.0     45.0     22.0  ...   \n",
       "22      0.0      1.0     1.0      7.0      8.0    853.0    184.0  ...   \n",
       "23    214.0    876.0   220.0      2.0     43.0     68.0      0.0  ...   \n",
       "24      4.0      1.0     NaN      1.0      4.0      0.0      2.0  ...   \n",
       "25      0.0      0.0    14.0      1.0    157.0  22004.0   2249.0  ...   \n",
       "26     99.0    343.0   375.0   7362.0    860.0   2511.0  54118.0  ...   \n",
       "27      9.0      0.0     0.0     49.0    129.0    495.0    305.0  ...   \n",
       "28      0.0      0.0     0.0      0.0      0.0      0.0      0.0  ...   \n",
       "29      0.0      0.0     0.0     15.0    722.0   1156.0   4779.0  ...   \n",
       "..      ...      ...     ...      ...      ...      ...      ...  ...   \n",
       "164  3585.0    676.0  2813.0   8523.0   5616.0    680.0     68.0  ...   \n",
       "165     0.0      0.0     0.0      0.0      0.0      0.0      0.0  ...   \n",
       "166    22.0     26.0    51.0     30.0     26.0      6.0      3.0  ...   \n",
       "167    35.0     23.0   175.0     61.0    621.0     77.0    958.0  ...   \n",
       "168    45.0    594.0   740.0     13.0     13.0     26.0     22.0  ...   \n",
       "169     3.0      0.0     1.0     16.0      1.0      0.0      0.0  ...   \n",
       "170   154.0      NaN  2641.0   5197.0   3156.0   2583.0   6071.0  ...   \n",
       "171     1.0    116.0     4.0      7.0    701.0    217.0      5.0  ...   \n",
       "172    43.0     47.0     4.0     16.0    763.0     50.0     10.0  ...   \n",
       "173    20.0    577.0   564.0    238.0    187.0    120.0    425.0  ...   \n",
       "174     NaN      NaN     0.0      0.0      0.0      0.0      0.0  ...   \n",
       "175     0.0      0.0     0.0      0.0      0.0      0.0      0.0  ...   \n",
       "176    16.0     15.0    16.0     48.0     11.0      1.0      1.0  ...   \n",
       "177   342.0    565.0  7405.0    349.0    111.0      7.0      4.0  ...   \n",
       "178     0.0      0.0     0.0      0.0      0.0      0.0      0.0  ...   \n",
       "179     NaN      NaN     NaN      0.0      0.0      0.0      0.0  ...   \n",
       "180   478.0    314.0  7878.0   2027.0   3312.0   1313.0   1601.0  ...   \n",
       "181   105.0      NaN     NaN  12746.0   1333.0     39.0      NaN  ...   \n",
       "182   347.0    344.0     NaN    132.0      NaN     87.0      NaN  ...   \n",
       "183    91.0    133.0  1919.0   2092.0   1112.0    443.0   1212.0  ...   \n",
       "184    30.0     88.0   185.0   1668.0   1622.0    167.0   1574.0  ...   \n",
       "185   188.0    667.0   187.0     55.0    220.0     63.0     71.0  ...   \n",
       "186     0.0      0.0     0.0      0.0      0.0      0.0      0.0  ...   \n",
       "187    22.0      8.0     0.0      NaN    476.0    117.0      0.0  ...   \n",
       "188    39.0     10.0     0.0      0.0      0.0      0.0      0.0  ...   \n",
       "189     0.0      0.0     0.0      1.0      0.0      0.0      0.0  ...   \n",
       "190   256.0  15033.0  1123.0    578.0    750.0   2809.0   6582.0  ...   \n",
       "191   468.0    815.0   400.0   2177.0   2676.0    510.0    130.0  ...   \n",
       "192     9.0      9.0    35.0    896.0  13234.0  15754.0     26.0  ...   \n",
       "193     0.0      0.0     0.0      0.0      0.0   9696.0    853.0  ...   \n",
       "\n",
       "         1983      1982      1981      1980      1979      1978      1977  \\\n",
       "0     18808.0   20320.0   31107.0   32455.0   43979.0   43964.0   28174.0   \n",
       "1        17.0       3.0       NaN       NaN       NaN       NaN       NaN   \n",
       "2     22126.0   29584.0   20849.0   15527.0   14937.0   10696.0   12015.0   \n",
       "3         NaN       NaN       NaN       NaN       NaN       NaN       NaN   \n",
       "4     22589.0   30067.0   19714.0   29656.0   19682.0   20408.0   12940.0   \n",
       "5        10.0       0.0     247.0    2291.0     534.0      10.0       4.0   \n",
       "6      7106.0    4432.0   17582.0   16102.0    9985.0    9551.0   36538.0   \n",
       "7         NaN       NaN       NaN       NaN       NaN       NaN       NaN   \n",
       "8         NaN       NaN       NaN       NaN       NaN       NaN       NaN   \n",
       "9         NaN       NaN       NaN       NaN       NaN       NaN       NaN   \n",
       "10        NaN       NaN       NaN       NaN       NaN       NaN       NaN   \n",
       "11     2868.0      50.0      45.0     484.0    1659.0     222.0    1831.0   \n",
       "12      438.0    1147.0     329.0    1861.0    1781.0    1660.0    1263.0   \n",
       "13     9569.0   18116.0   10441.0   11077.0   31895.0   18576.0   22973.0   \n",
       "14        6.0       6.0      41.0      27.0      16.0      35.0    1711.0   \n",
       "15        NaN       NaN       NaN       NaN       NaN       NaN       NaN   \n",
       "16        NaN       NaN       NaN       NaN       NaN       NaN       NaN   \n",
       "17       11.0       6.0     186.0     607.0     255.0     216.0      19.0   \n",
       "18    11774.0   11850.0   12378.0   18635.0   11096.0   23269.0   15502.0   \n",
       "19     1356.0    1868.0    1102.0    1642.0     894.0     440.0       NaN   \n",
       "20     2034.0     720.0    7654.0    4181.0    5802.0    3363.0    8194.0   \n",
       "21        NaN       NaN       NaN       NaN       NaN       NaN       NaN   \n",
       "22     6542.0    1512.0    2157.0    4091.0    8556.0    2483.0    8637.0   \n",
       "23    58259.0   39370.0   61281.0   99263.0   65552.0   51345.0   54410.0   \n",
       "24      558.0     243.0     775.0     485.0     249.0    2138.0       NaN   \n",
       "25      326.0     281.0    9239.0   10763.0     249.0     423.0     806.0   \n",
       "26    21395.0   20940.0   17327.0   13713.0   29672.0    9213.0   32317.0   \n",
       "27    49302.0   42051.0   58970.0   49227.0   43557.0   49629.0   58755.0   \n",
       "28     1385.0    1282.0     150.0    1279.0     306.0     261.0     204.0   \n",
       "29    10368.0   57605.0   40774.0   32240.0       NaN       NaN       NaN   \n",
       "..        ...       ...       ...       ...       ...       ...       ...   \n",
       "164    2806.0   68171.0   64804.0   50168.0   44015.0   16426.0   35115.0   \n",
       "165      17.0     647.0     716.0     254.0       0.0       0.0       NaN   \n",
       "166    4626.0    6223.0    3540.0    1786.0    8668.0    6908.0   10313.0   \n",
       "167       NaN       NaN       NaN       NaN       NaN       NaN       NaN   \n",
       "168     879.0     800.0    1729.0    1478.0    1664.0    1062.0    1492.0   \n",
       "169       NaN       NaN       NaN       NaN       NaN       NaN       NaN   \n",
       "170   34713.0   27691.0   24298.0   16795.0   13151.0    8502.0    8775.0   \n",
       "171       NaN       NaN       NaN       NaN       NaN       NaN       NaN   \n",
       "172       NaN       NaN       NaN       NaN       NaN       NaN       NaN   \n",
       "173   19403.0   21925.0   19043.0   33960.0   18356.0   37445.0   23057.0   \n",
       "174      36.0      19.0     187.0    2336.0     523.0      17.0      84.0   \n",
       "175    2392.0    1284.0    3601.0     384.0     394.0     775.0    1602.0   \n",
       "176    1464.0    1828.0    3007.0     225.0     351.0     250.0       NaN   \n",
       "177   31515.0    8778.0   26547.0    8618.0   11471.0   12517.0   16123.0   \n",
       "178       NaN       NaN       NaN       NaN       NaN       NaN       NaN   \n",
       "179       0.0      20.0       3.0     509.0      94.0       0.0       0.0   \n",
       "180   43016.0   11408.0   18630.0   13415.0    2571.0   17877.0   26879.0   \n",
       "181       NaN       NaN       NaN       NaN       NaN       NaN       NaN   \n",
       "182    2105.0    1691.0    2820.0    2796.0    1616.0    1973.0    1056.0   \n",
       "183  114948.0  105642.0   61779.0  147962.0   93371.0  133811.0  190393.0   \n",
       "184   68804.0  102127.0   79764.0   63100.0   66062.0   83009.0   67756.0   \n",
       "185    1497.0    1714.0    3124.0   13506.0   13597.0   26871.0   57345.0   \n",
       "186      18.0     135.0   15465.0     141.0    1226.0     552.0    5178.0   \n",
       "187       NaN       NaN       NaN       NaN       NaN       NaN       NaN   \n",
       "188     401.0     832.0      45.0      39.0       7.0     378.0    1133.0   \n",
       "189   11263.0   14200.0   31255.0    9750.0   21691.0   18568.0   13330.0   \n",
       "190  125176.0   72466.0   62400.0   86901.0  117560.0  115034.0  122558.0   \n",
       "191   33348.0   24482.0   21355.0   18020.0   23335.0    7744.0   14234.0   \n",
       "192   51140.0   73499.0  184210.0   98659.0   95069.0   98516.0  112021.0   \n",
       "193   36253.0    4941.0    4995.0   23650.0    8849.0    6081.0    9026.0   \n",
       "\n",
       "         1976      1975      1974  \n",
       "0        26.0     466.0       7.0  \n",
       "1         NaN       NaN       NaN  \n",
       "2     15646.0    8899.0   10517.0  \n",
       "3         NaN       NaN       NaN  \n",
       "4      5492.0    2153.0    5881.0  \n",
       "5         9.0       3.0    1388.0  \n",
       "6     39291.0   23108.0   23803.0  \n",
       "7         NaN       NaN       NaN  \n",
       "8         NaN       NaN       NaN  \n",
       "9         NaN       NaN       NaN  \n",
       "10        NaN       NaN       NaN  \n",
       "11      933.0      14.0     432.0  \n",
       "12     4661.0    1009.0    3874.0  \n",
       "13    40171.0    3030.0       NaN  \n",
       "14      270.0     382.0     200.0  \n",
       "15        NaN       NaN       NaN  \n",
       "16        NaN       NaN       NaN  \n",
       "17     1341.0     429.0       8.0  \n",
       "18     9514.0   13235.0   16364.0  \n",
       "19        NaN       NaN       NaN  \n",
       "20     6427.0    2244.0    5318.0  \n",
       "21        NaN       NaN       NaN  \n",
       "22     3495.0    8832.0    5625.0  \n",
       "23    73631.0   19764.0   20061.0  \n",
       "24      133.0       NaN       NaN  \n",
       "25    16877.0   20162.0   41335.0  \n",
       "26    22563.0   33683.0   11329.0  \n",
       "27    37019.0   30949.0   20025.0  \n",
       "28      440.0       NaN       NaN  \n",
       "29        NaN       NaN       NaN  \n",
       "..        ...       ...       ...  \n",
       "164   24542.0   58028.0   57507.0  \n",
       "165     143.0       NaN       0.0  \n",
       "166    8774.0    7841.0    7464.0  \n",
       "167       NaN       NaN       NaN  \n",
       "168    1054.0    2057.0    1981.0  \n",
       "169       NaN       NaN       NaN  \n",
       "170    5538.0    3392.0    2739.0  \n",
       "171       NaN       NaN       NaN  \n",
       "172       NaN       NaN       NaN  \n",
       "173   26018.0   24304.0   19020.0  \n",
       "174    2487.0       0.0      34.0  \n",
       "175     589.0     244.0     219.0  \n",
       "176       NaN       NaN       NaN  \n",
       "177   21740.0   24347.0   12836.0  \n",
       "178       NaN       NaN       NaN  \n",
       "179       1.0       0.0       NaN  \n",
       "180   12828.0    6802.0    3643.0  \n",
       "181       NaN       NaN       NaN  \n",
       "182     897.0     399.0     555.0  \n",
       "183   68422.0  158619.0  118672.0  \n",
       "184   33221.0       NaN       NaN  \n",
       "185   41126.0   24374.0   22094.0  \n",
       "186    1356.0    5754.0    4456.0  \n",
       "187       NaN       NaN       NaN  \n",
       "188      24.0     129.0       NaN  \n",
       "189   23268.0   34796.0   33454.0  \n",
       "190   71011.0   63896.0   26975.0  \n",
       "191    8814.0    2564.0    1530.0  \n",
       "192  128135.0   91461.0  113643.0  \n",
       "193    6112.0       NaN       NaN  \n",
       "\n",
       "[194 rows x 45 columns]>"
      ]
     },
     "execution_count": 4,
     "metadata": {},
     "output_type": "execute_result"
    }
   ],
   "source": [
    "df = pd.read_csv('MC_Reported_By_Year_Nation.csv')\n",
    "df.head"
   ]
  },
  {
   "cell_type": "code",
   "execution_count": null,
   "metadata": {},
   "outputs": [],
   "source": []
  },
  {
   "cell_type": "code",
   "execution_count": 5,
   "metadata": {},
   "outputs": [],
   "source": [
    "pd.options.display.float_format = '{:,.0f}'.format"
   ]
  },
  {
   "cell_type": "code",
   "execution_count": 6,
   "metadata": {},
   "outputs": [],
   "source": [
    "#too much missing data to fill in these years we decide to drop the column\n",
    "#inorder for a more accurate depiction of the data we are dropping the values\n",
    "df = df.drop(['1974', '1975', '1976', '1977', '1978', '1979', '1980', '1981', '1982', '1983', '1984', '1985', '1986', \n",
    "             '1987', '1988', '1989', '1990', '1991', '1992', '1993', '1994', '1995', '1996', '1997', '1998', '1999'], axis=1)"
   ]
  },
  {
   "cell_type": "code",
   "execution_count": 7,
   "metadata": {
    "scrolled": true
   },
   "outputs": [],
   "source": [
    "#select all the desired country to compare\n",
    "df = df.loc[[0,8,34,35,38,50,66,125,140,179,185,189]]"
   ]
  },
  {
   "cell_type": "code",
   "execution_count": 8,
   "metadata": {
    "scrolled": false
   },
   "outputs": [],
   "source": [
    "#checking for missing values\n",
    "#df.isna().sum()"
   ]
  },
  {
   "cell_type": "code",
   "execution_count": 9,
   "metadata": {},
   "outputs": [],
   "source": [
    "df_vac = pd.read_csv('vac_perc_nation.csv')\n",
    "pd.options.display.float_format = '{:,.0f}'.format"
   ]
  },
  {
   "cell_type": "code",
   "execution_count": 10,
   "metadata": {},
   "outputs": [],
   "source": [
    "df_vac = df_vac.loc[[0,8,34,35,38,50,66,125,140,179,185,189]]"
   ]
  },
  {
   "cell_type": "code",
   "execution_count": 11,
   "metadata": {},
   "outputs": [],
   "source": [
    "df_vac= df_vac.drop(['1980', '1981', '1982', '1983', '1984', '1985', '1986', \n",
    "             '1987', '1988', '1989', '1990', '1991', '1992', '1993', '1994', '1995', '1996', '1997', '1998', '1999'], axis=1)"
   ]
  },
  {
   "cell_type": "code",
   "execution_count": 12,
   "metadata": {},
   "outputs": [],
   "source": [
    "df_vac = df_vac.T"
   ]
  },
  {
   "cell_type": "code",
   "execution_count": 13,
   "metadata": {},
   "outputs": [
    {
     "ename": "FileNotFoundError",
     "evalue": "[Errno 2] No such file or directory: 'C:\\\\Users\\\\David\\\\Desktop\\\\is0419\\\\final_project\\\\filterd_data.csv'",
     "output_type": "error",
     "traceback": [
      "\u001b[1;31m---------------------------------------------------------------------------\u001b[0m",
      "\u001b[1;31mFileNotFoundError\u001b[0m                         Traceback (most recent call last)",
      "\u001b[1;32m<ipython-input-13-82ec8549559a>\u001b[0m in \u001b[0;36m<module>\u001b[1;34m\u001b[0m\n\u001b[1;32m----> 1\u001b[1;33m \u001b[0mdf_vac\u001b[0m\u001b[1;33m.\u001b[0m\u001b[0mto_csv\u001b[0m \u001b[1;33m(\u001b[0m\u001b[1;34mr'C:\\Users\\David\\Desktop\\is0419\\final_project\\filterd_data.csv'\u001b[0m\u001b[1;33m,\u001b[0m \u001b[0mindex\u001b[0m\u001b[1;33m=\u001b[0m\u001b[1;32mTrue\u001b[0m\u001b[1;33m,\u001b[0m \u001b[0mheader\u001b[0m \u001b[1;33m=\u001b[0m \u001b[1;32mTrue\u001b[0m\u001b[1;33m)\u001b[0m\u001b[1;33m\u001b[0m\u001b[1;33m\u001b[0m\u001b[0m\n\u001b[0m",
      "\u001b[1;32m~\\Anaconda3\\lib\\site-packages\\pandas\\core\\generic.py\u001b[0m in \u001b[0;36mto_csv\u001b[1;34m(self, path_or_buf, sep, na_rep, float_format, columns, header, index, index_label, mode, encoding, compression, quoting, quotechar, line_terminator, chunksize, tupleize_cols, date_format, doublequote, escapechar, decimal)\u001b[0m\n\u001b[0;32m   3018\u001b[0m                                  \u001b[0mdoublequote\u001b[0m\u001b[1;33m=\u001b[0m\u001b[0mdoublequote\u001b[0m\u001b[1;33m,\u001b[0m\u001b[1;33m\u001b[0m\u001b[1;33m\u001b[0m\u001b[0m\n\u001b[0;32m   3019\u001b[0m                                  escapechar=escapechar, decimal=decimal)\n\u001b[1;32m-> 3020\u001b[1;33m         \u001b[0mformatter\u001b[0m\u001b[1;33m.\u001b[0m\u001b[0msave\u001b[0m\u001b[1;33m(\u001b[0m\u001b[1;33m)\u001b[0m\u001b[1;33m\u001b[0m\u001b[1;33m\u001b[0m\u001b[0m\n\u001b[0m\u001b[0;32m   3021\u001b[0m \u001b[1;33m\u001b[0m\u001b[0m\n\u001b[0;32m   3022\u001b[0m         \u001b[1;32mif\u001b[0m \u001b[0mpath_or_buf\u001b[0m \u001b[1;32mis\u001b[0m \u001b[1;32mNone\u001b[0m\u001b[1;33m:\u001b[0m\u001b[1;33m\u001b[0m\u001b[1;33m\u001b[0m\u001b[0m\n",
      "\u001b[1;32m~\\Anaconda3\\lib\\site-packages\\pandas\\io\\formats\\csvs.py\u001b[0m in \u001b[0;36msave\u001b[1;34m(self)\u001b[0m\n\u001b[0;32m    155\u001b[0m             f, handles = _get_handle(self.path_or_buf, self.mode,\n\u001b[0;32m    156\u001b[0m                                      \u001b[0mencoding\u001b[0m\u001b[1;33m=\u001b[0m\u001b[0mself\u001b[0m\u001b[1;33m.\u001b[0m\u001b[0mencoding\u001b[0m\u001b[1;33m,\u001b[0m\u001b[1;33m\u001b[0m\u001b[1;33m\u001b[0m\u001b[0m\n\u001b[1;32m--> 157\u001b[1;33m                                      compression=self.compression)\n\u001b[0m\u001b[0;32m    158\u001b[0m             \u001b[0mclose\u001b[0m \u001b[1;33m=\u001b[0m \u001b[1;32mTrue\u001b[0m\u001b[1;33m\u001b[0m\u001b[1;33m\u001b[0m\u001b[0m\n\u001b[0;32m    159\u001b[0m \u001b[1;33m\u001b[0m\u001b[0m\n",
      "\u001b[1;32m~\\Anaconda3\\lib\\site-packages\\pandas\\io\\common.py\u001b[0m in \u001b[0;36m_get_handle\u001b[1;34m(path_or_buf, mode, encoding, compression, memory_map, is_text)\u001b[0m\n\u001b[0;32m    422\u001b[0m         \u001b[1;32melif\u001b[0m \u001b[0mencoding\u001b[0m\u001b[1;33m:\u001b[0m\u001b[1;33m\u001b[0m\u001b[1;33m\u001b[0m\u001b[0m\n\u001b[0;32m    423\u001b[0m             \u001b[1;31m# Python 3 and encoding\u001b[0m\u001b[1;33m\u001b[0m\u001b[1;33m\u001b[0m\u001b[1;33m\u001b[0m\u001b[0m\n\u001b[1;32m--> 424\u001b[1;33m             \u001b[0mf\u001b[0m \u001b[1;33m=\u001b[0m \u001b[0mopen\u001b[0m\u001b[1;33m(\u001b[0m\u001b[0mpath_or_buf\u001b[0m\u001b[1;33m,\u001b[0m \u001b[0mmode\u001b[0m\u001b[1;33m,\u001b[0m \u001b[0mencoding\u001b[0m\u001b[1;33m=\u001b[0m\u001b[0mencoding\u001b[0m\u001b[1;33m,\u001b[0m \u001b[0mnewline\u001b[0m\u001b[1;33m=\u001b[0m\u001b[1;34m\"\"\u001b[0m\u001b[1;33m)\u001b[0m\u001b[1;33m\u001b[0m\u001b[1;33m\u001b[0m\u001b[0m\n\u001b[0m\u001b[0;32m    425\u001b[0m         \u001b[1;32melif\u001b[0m \u001b[0mis_text\u001b[0m\u001b[1;33m:\u001b[0m\u001b[1;33m\u001b[0m\u001b[1;33m\u001b[0m\u001b[0m\n\u001b[0;32m    426\u001b[0m             \u001b[1;31m# Python 3 and no explicit encoding\u001b[0m\u001b[1;33m\u001b[0m\u001b[1;33m\u001b[0m\u001b[1;33m\u001b[0m\u001b[0m\n",
      "\u001b[1;31mFileNotFoundError\u001b[0m: [Errno 2] No such file or directory: 'C:\\\\Users\\\\David\\\\Desktop\\\\is0419\\\\final_project\\\\filterd_data.csv'"
     ]
    }
   ],
   "source": [
    "df_vac.to_csv (r'C:\\Users\\David\\Desktop\\is0419\\final_project\\filterd_data.csv', index=True, header = True)"
   ]
  },
  {
   "cell_type": "code",
   "execution_count": 14,
   "metadata": {},
   "outputs": [],
   "source": [
    "df = pd.read_csv('filtere_data.csv')"
   ]
  },
  {
   "cell_type": "markdown",
   "metadata": {},
   "source": [
    "# Vaccination threshold\n",
    "1. Displaying every part of the world\n",
    "2. Compare country with the highest to the lowest GDP in 2017 according to CIA \n"
   ]
  },
  {
   "cell_type": "code",
   "execution_count": 15,
   "metadata": {},
   "outputs": [
    {
     "name": "stderr",
     "output_type": "stream",
     "text": [
      "No handles with labels found to put in legend.\n"
     ]
    },
    {
     "data": {
      "image/png": "[encoded data removed]",
      "text/plain": [
       "<Figure size 1296x1728 with 1 Axes>"
      ]
     },
     "metadata": {
      "needs_background": "light"
     },
     "output_type": "display_data"
    }
   ],
   "source": [
    "year = df['Unnamed: 0']\n",
    "AF = df['0']\n",
    "AS = df['8']\n",
    "CI = df['34']\n",
    "CN = df['35']\n",
    "CO = df['38']\n",
    "DO = df['50']\n",
    "GR = df['66']\n",
    "NG = df['125']\n",
    "MO = df['140']\n",
    "TU = df['179']\n",
    "US = df['185']\n",
    "VZ = df['189']\n",
    "\n",
    "plt.plot(year, VZ, color='lime')\n",
    "plt.plot(year, US, color='darkblue')\n",
    "\n",
    "plt.plot(year, CN, color='coral')\n",
    "plt.plot(year, AF, color='orchid')\n",
    "\n",
    "plt.plot(year, GR, color='turquoise')\n",
    "plt.plot(year, MO, color='indigo')\n",
    "\n",
    "plt.plot(year, CO, color='red')\n",
    "plt.plot(year, NG, color='yellow')\n",
    "\n",
    "plt.plot(year, AS, color='orange')\n",
    "plt.plot(year, TU, color='slategray')\n",
    "\n",
    "plt.plot(year, VZ, color='Pink')\n",
    "plt.plot(year, CI, color='greenyellow')\n",
    "\n",
    "fig = plt.gcf()\n",
    "fig.set_size_inches(18,24)\n",
    "\n",
    "plt.xlabel('Years')\n",
    "plt.ylabel('Measle Vaccination Dose 1 (MCV1%)')\n",
    "plt.title('MCV1 Vaccination Rate (%) from 2000-2017')\n",
    "plt.xticks([2000, 2001, 2002, 2003, 2004, 2005, 2006, 2007, 2008, 2009, 2010, 2011, 2012, 2013, 2014, 2015, 2016, 2017])\n",
    "plt.yticks([25, 30, 35, 40, 45, 50, 55, 60, 65, 70, 75, 80, 85, 90, 95, 100])\n",
    "x = plt.xlim(2000, 2017) \n",
    "plt.ylim(25, 100)\n",
    "\n",
    "plt.legend(loc='best')\n",
    "plt.grid(True, which='both')\n",
    "plt.axhline(y=90, color=\"black\", linestyle=\"--\")\n",
    "plt.axhline(y=95, color=\"black\", linestyle=\"--\")\n",
    "plt.fill_between(x, y1=90, y2=95, color=\"lightcyan\")\n",
    "plt.text(x=2017.25, y=92.5, s=\"Herd Immunity Threshold\", fontsize=12,\n",
    "         bbox=dict(facecolor='white', boxstyle=\"round, pad=.5\"));\n",
    "plt.show()"
   ]
  },
  {
   "cell_type": "markdown",
   "metadata": {},
   "source": [
    "# South America Vaccination Threshold\n",
    "Comparing Chile the most developed country according to CIA world book\n",
    "to Venezula which is the least developed nation South American Region"
   ]
  },
  {
   "cell_type": "code",
   "execution_count": 16,
   "metadata": {
    "scrolled": true
   },
   "outputs": [
    {
     "name": "stderr",
     "output_type": "stream",
     "text": [
      "No handles with labels found to put in legend.\n"
     ]
    },
    {
     "data": {
      "image/png": "[encoded data removed]",
      "text/plain": [
       "<Figure size 864x432 with 1 Axes>"
      ]
     },
     "metadata": {
      "needs_background": "light"
     },
     "output_type": "display_data"
    }
   ],
   "source": [
    "#south Amer\n",
    "year = df['Unnamed: 0']\n",
    "VZ = df['189']\n",
    "CI = df['34']\n",
    "\n",
    "plt.plot(year, VZ, color='gold')\n",
    "plt.plot(year, CI, color='crimson')\n",
    "\n",
    "fig = plt.gcf()\n",
    "fig.set_size_inches(12,6)\n",
    "\n",
    "plt.xlabel('Years')\n",
    "plt.ylabel('Measles Vaccination Dose 1 (MCV1%)')\n",
    "plt.title('MCV1 Vaccination Rate (%) from 2000-2017 in SA')\n",
    "plt.xticks([2000, 2001, 2002, 2003, 2004, 2005, 2006, 2007, 2008, 2009, 2010, 2011, 2012, 2013, 2014, 2015, 2016, 2017])\n",
    "plt.yticks([74, 76, 78, 80, 82, 84, 86, 88, 90, 92, 94, 96, 98, 100])\n",
    "plt.xlim(2000, 2017) \n",
    "plt.ylim(75, 100)\n",
    "\n",
    "plt.legend(loc='best')\n",
    "plt.grid(True, which='both')\n",
    "plt.axhline(y=90, color=\"black\", linestyle=\"--\")\n",
    "plt.axhline(y=95, color=\"black\", linestyle=\"--\")\n",
    "plt.fill_between(x, y1=90, y2=95, color=\"lightcyan\")\n",
    "plt.text(x=2017.25, y=92.5, s=\"Herd Immunity Threshold\", fontsize=12,\n",
    "         bbox=dict(facecolor='white', boxstyle=\"round, pad=.5\"));\n",
    "plt.show()"
   ]
  },
  {
   "cell_type": "markdown",
   "metadata": {},
   "source": [
    "\n",
    "\n",
    "\n",
    "# NORTH AMERICA VACCINATION THRESHOLD"
   ]
  },
  {
   "cell_type": "code",
   "execution_count": 17,
   "metadata": {
    "scrolled": true
   },
   "outputs": [
    {
     "name": "stderr",
     "output_type": "stream",
     "text": [
      "No handles with labels found to put in legend.\n"
     ]
    },
    {
     "data": {
      "image/png": "[encoded data removed]",
      "text/plain": [
       "<Figure size 864x432 with 1 Axes>"
      ]
     },
     "metadata": {
      "needs_background": "light"
     },
     "output_type": "display_data"
    }
   ],
   "source": [
    "year = df['Unnamed: 0']\n",
    "DO = df['50']\n",
    "US = df['185']\n",
    "\n",
    "plt.plot(year, DO, color='red')\n",
    "plt.plot(year, US, color='purple')\n",
    "\n",
    "fig = plt.gcf()\n",
    "fig.set_size_inches(12,6)\n",
    "\n",
    "plt.xlabel('Years')\n",
    "plt.ylabel('Measles Vaccination Dose 1 (MCV1%)')\n",
    "plt.title('MCV1 Vaccination Rate (%) from 2000-2017 in NA')\n",
    "plt.xticks([2000, 2001, 2002, 2003, 2004, 2005, 2006, 2007, 2008, 2009, 2010, 2011, 2012, 2013, 2014, 2015, 2016, 2017])\n",
    "plt.yticks([80, 82, 84, 86, 88, 90, 92, 94, 96, 98, 100])\n",
    "plt.xlim(2000, 2017) \n",
    "plt.ylim(85, 100)\n",
    "\n",
    "plt.legend(loc='best')\n",
    "plt.grid(True, which='both')\n",
    "plt.axhline(y=90, color=\"black\", linestyle=\"--\")\n",
    "plt.axhline(y=95, color=\"black\", linestyle=\"--\")\n",
    "plt.fill_between(x, y1=90, y2=95, color=\"lightcyan\")\n",
    "plt.text(x=2017.25, y=92.5, s=\"Herd Immunity Threshold\", fontsize=12,\n",
    "         bbox=dict(facecolor='white', boxstyle=\"round, pad=.5\"));\n",
    "plt.show()"
   ]
  },
  {
   "cell_type": "markdown",
   "metadata": {},
   "source": [
    "# Europe Vaccination Threshold"
   ]
  },
  {
   "cell_type": "code",
   "execution_count": 18,
   "metadata": {
    "scrolled": true
   },
   "outputs": [
    {
     "name": "stderr",
     "output_type": "stream",
     "text": [
      "No handles with labels found to put in legend.\n"
     ]
    },
    {
     "data": {
      "image/png": "[encoded data removed]",
      "text/plain": [
       "<Figure size 864x432 with 1 Axes>"
      ]
     },
     "metadata": {
      "needs_background": "light"
     },
     "output_type": "display_data"
    }
   ],
   "source": [
    "year = df['Unnamed: 0']\n",
    "\n",
    "GR = df['66']\n",
    "MO = df['140']\n",
    "\n",
    "plt.plot(year, GR, color='blue')\n",
    "plt.plot(year, MO, color='orange')\n",
    "\n",
    "fig = plt.gcf()\n",
    "fig.set_size_inches(12,6)\n",
    "\n",
    "plt.xlabel('Years')\n",
    "plt.ylabel('Measles Vaccination Dose 1 (MCV1%)')\n",
    "plt.title('MCV1 Vaccination Rate (%) from 2000-2017 in AS')\n",
    "plt.xticks([2000, 2001, 2002, 2003, 2004, 2005, 2006, 2007, 2008, 2009, 2010, 2011, 2012, 2013, 2014, 2015, 2016, 2017])\n",
    "plt.yticks([80, 82, 84, 86, 88, 90, 92, 94, 96, 98, 100])\n",
    "plt.xlim(2000, 2017) \n",
    "plt.ylim(80, 100)\n",
    "\n",
    "plt.legend(loc='best')\n",
    "plt.grid(True, which='both')\n",
    "plt.axhline(y=90, color=\"black\", linestyle=\"--\")\n",
    "plt.axhline(y=95, color=\"black\", linestyle=\"--\")\n",
    "plt.fill_between(x, y1=90, y2=95, color=\"lightcyan\")\n",
    "plt.text(x=2017.25, y=92.5, s=\"Herd Immunity Threshold\", fontsize=12,\n",
    "         bbox=dict(facecolor='white', boxstyle=\"round, pad=.5\"));\n",
    "plt.show()"
   ]
  },
  {
   "cell_type": "markdown",
   "metadata": {},
   "source": [
    "# Asia Vaccination Threshold"
   ]
  },
  {
   "cell_type": "code",
   "execution_count": 19,
   "metadata": {},
   "outputs": [
    {
     "name": "stderr",
     "output_type": "stream",
     "text": [
      "No handles with labels found to put in legend.\n"
     ]
    },
    {
     "data": {
      "image/png": "[encoded data removed]",
      "text/plain": [
       "<Figure size 864x432 with 1 Axes>"
      ]
     },
     "metadata": {
      "needs_background": "light"
     },
     "output_type": "display_data"
    }
   ],
   "source": [
    "year = df['Unnamed: 0']\n",
    "CN = df['35']\n",
    "AF = df['0']\n",
    "\n",
    "plt.plot(year, CN, color='saddlebrown')\n",
    "plt.plot(year, AF, color='royalblue')\n",
    "\n",
    "fig = plt.gcf()\n",
    "fig.set_size_inches(12,6)\n",
    "\n",
    "plt.xlabel('Years')\n",
    "plt.ylabel('Measles Vaccination Dose 1 (MCV1%)')\n",
    "plt.title('MCV1 Vaccination Rate (%) from 2000-2017 in SA')\n",
    "plt.xticks([2000, 2001, 2002, 2003, 2004, 2005, 2006, 2007, 2008, 2009, 2010, 2011, 2012, 2013, 2014, 2015, 2016, 2017])\n",
    "plt.yticks([20,25,30,35,40,45,50,55,60,65,70,75,80,85,90,95,100])\n",
    "plt.xlim(2000, 2017) \n",
    "plt.ylim(20, 100)\n",
    "\n",
    "plt.legend(loc='best')\n",
    "plt.grid(True, which='both')\n",
    "plt.axhline(y=90, color=\"black\", linestyle=\"--\")\n",
    "plt.axhline(y=95, color=\"black\", linestyle=\"--\")\n",
    "plt.fill_between(x, y1=90, y2=95, color=\"lightcyan\")\n",
    "plt.text(x=2017.25, y=92.5, s=\"Herd Immunity Threshold\", fontsize=12,\n",
    "         bbox=dict(facecolor='white', boxstyle=\"round, pad=.5\"));\n",
    "plt.show()"
   ]
  },
  {
   "cell_type": "markdown",
   "metadata": {},
   "source": [
    "# Africa Vaccination Threshold"
   ]
  },
  {
   "cell_type": "code",
   "execution_count": 20,
   "metadata": {
    "scrolled": true
   },
   "outputs": [
    {
     "name": "stderr",
     "output_type": "stream",
     "text": [
      "No handles with labels found to put in legend.\n"
     ]
    },
    {
     "data": {
      "image/png": "[encoded data removed]",
      "text/plain": [
       "<Figure size 864x432 with 1 Axes>"
      ]
     },
     "metadata": {
      "needs_background": "light"
     },
     "output_type": "display_data"
    }
   ],
   "source": [
    "year = df['Unnamed: 0']\n",
    "CO = df['38']\n",
    "NG = df['125']\n",
    "\n",
    "plt.plot(year, CO, color='aqua')\n",
    "plt.plot(year, NG, color='palegreen')\n",
    "\n",
    "fig = plt.gcf()\n",
    "fig.set_size_inches(12,6)\n",
    "\n",
    "plt.xlabel('Years')\n",
    "plt.ylabel('Measles Vaccination Dose 1 (MCV1%)')\n",
    "plt.title('MCV1 Vaccination Rate (%) from 2000-2017 in SA')\n",
    "plt.xticks([2000, 2001, 2002, 2003, 2004, 2005, 2006, 2007, 2008, 2009, 2010, 2011, 2012, 2013, 2014, 2015, 2016, 2017])\n",
    "plt.yticks([20,25,30,35,40,45,50,55,60,65,70,75,80,85,90,95,100])\n",
    "plt.xlim(2000, 2017) \n",
    "plt.ylim(20, 100)\n",
    "\n",
    "plt.legend(loc='best')\n",
    "plt.grid(True, which='both')\n",
    "plt.axhline(y=90, color=\"black\", linestyle=\"--\")\n",
    "plt.axhline(y=95, color=\"black\", linestyle=\"--\")\n",
    "plt.fill_between(x, y1=90, y2=95, color=\"lightcyan\")\n",
    "plt.text(x=2017.25, y=92.5, s=\"Herd Immunity Threshold\", fontsize=12,\n",
    "         bbox=dict(facecolor='white', boxstyle=\"round, pad=.5\"));\n",
    "plt.show()"
   ]
  },
  {
   "cell_type": "markdown",
   "metadata": {},
   "source": [
    "# Oceania Vaccination Thershold"
   ]
  },
  {
   "cell_type": "code",
   "execution_count": 21,
   "metadata": {
    "scrolled": true
   },
   "outputs": [
    {
     "name": "stderr",
     "output_type": "stream",
     "text": [
      "No handles with labels found to put in legend.\n"
     ]
    },
    {
     "data": {
      "image/png": "[encoded data removed]",
      "text/plain": [
       "<Figure size 864x432 with 1 Axes>"
      ]
     },
     "metadata": {
      "needs_background": "light"
     },
     "output_type": "display_data"
    }
   ],
   "source": [
    "year = df['Unnamed: 0']\n",
    "AS = df['8']\n",
    "TU = df['179']\n",
    "\n",
    "plt.plot(year, AS, color='orchid')\n",
    "plt.plot(year, TU, color='springgreen')\n",
    "\n",
    "fig = plt.gcf()\n",
    "fig.set_size_inches(12,6)\n",
    "\n",
    "plt.xlabel('Years')\n",
    "plt.ylabel('Measles Vaccination Dose 1 (MCV1%)')\n",
    "plt.title('MCV1 Vaccination Rate (%) from 2000-2017 in SA')\n",
    "plt.xticks([2000, 2001, 2002, 2003, 2004, 2005, 2006, 2007, 2008, 2009, 2010, 2011, 2012, 2013, 2014, 2015, 2016, 2017])\n",
    "plt.yticks([60,62,64,66,68,70,72,74, 76, 78, 80, 82, 84, 86, 88, 90, 92, 94, 96, 98, 100])\n",
    "plt.xlim(2000, 2017) \n",
    "plt.ylim(60, 100)\n",
    "\n",
    "plt.legend(loc='best')\n",
    "plt.grid(True, which='both')\n",
    "plt.axhline(y=90, color=\"black\", linestyle=\"--\")\n",
    "plt.axhline(y=95, color=\"black\", linestyle=\"--\")\n",
    "plt.fill_between(x, y1=90, y2=95, color=\"lightcyan\")\n",
    "plt.text(x=2017.25, y=92.5, s=\"Herd Immunity Threshold\", fontsize=12,\n",
    "         bbox=dict(facecolor='white', boxstyle=\"round, pad=.5\"));\n",
    "plt.show()"
   ]
  },
  {
   "cell_type": "markdown",
   "metadata": {},
   "source": [
    "# Africa Model"
   ]
  },
  {
   "cell_type": "code",
   "execution_count": 22,
   "metadata": {
    "scrolled": false
   },
   "outputs": [
    {
     "data": {
      "text/html": [
       "<div>\n",
       "<style scoped>\n",
       "    .dataframe tbody tr th:only-of-type {\n",
       "        vertical-align: middle;\n",
       "    }\n",
       "\n",
       "    .dataframe tbody tr th {\n",
       "        vertical-align: top;\n",
       "    }\n",
       "\n",
       "    .dataframe thead th {\n",
       "        text-align: right;\n",
       "    }\n",
       "</style>\n",
       "<table border=\"1\" class=\"dataframe\">\n",
       "  <thead>\n",
       "    <tr style=\"text-align: right;\">\n",
       "      <th></th>\n",
       "      <th>Date</th>\n",
       "      <th>Population</th>\n",
       "      <th>Measles containing vaccine 2nd dose(MCV2)</th>\n",
       "      <th>Humanresources</th>\n",
       "      <th>Measles containing vaccine 1st dose(MCV2)(MCV1)</th>\n",
       "      <th>rcases</th>\n",
       "    </tr>\n",
       "  </thead>\n",
       "  <tbody>\n",
       "    <tr>\n",
       "      <th>0</th>\n",
       "      <td>2017</td>\n",
       "      <td>810984000</td>\n",
       "      <td>26</td>\n",
       "      <td>57</td>\n",
       "      <td>74</td>\n",
       "      <td>125426</td>\n",
       "    </tr>\n",
       "    <tr>\n",
       "      <th>1</th>\n",
       "      <td>2016</td>\n",
       "      <td>830902976</td>\n",
       "      <td>25</td>\n",
       "      <td>51</td>\n",
       "      <td>75</td>\n",
       "      <td>72603</td>\n",
       "    </tr>\n",
       "    <tr>\n",
       "      <th>2</th>\n",
       "      <td>2015</td>\n",
       "      <td>851297984</td>\n",
       "      <td>23</td>\n",
       "      <td>64</td>\n",
       "      <td>75</td>\n",
       "      <td>36269</td>\n",
       "    </tr>\n",
       "    <tr>\n",
       "      <th>3</th>\n",
       "      <td>2014</td>\n",
       "      <td>872248000</td>\n",
       "      <td>18</td>\n",
       "      <td>56</td>\n",
       "      <td>71</td>\n",
       "      <td>52758</td>\n",
       "    </tr>\n",
       "    <tr>\n",
       "      <th>4</th>\n",
       "      <td>2013</td>\n",
       "      <td>893843008</td>\n",
       "      <td>10</td>\n",
       "      <td>45</td>\n",
       "      <td>70</td>\n",
       "      <td>73914</td>\n",
       "    </tr>\n",
       "  </tbody>\n",
       "</table>\n",
       "</div>"
      ],
      "text/plain": [
       "   Date  Population  Measles containing vaccine 2nd dose(MCV2)  \\\n",
       "0  2017   810984000                                         26   \n",
       "1  2016   830902976                                         25   \n",
       "2  2015   851297984                                         23   \n",
       "3  2014   872248000                                         18   \n",
       "4  2013   893843008                                         10   \n",
       "\n",
       "   Humanresources  Measles containing vaccine 1st dose(MCV2)(MCV1)  rcases  \n",
       "0              57                                               74  125426  \n",
       "1              51                                               75   72603  \n",
       "2              64                                               75   36269  \n",
       "3              56                                               71   52758  \n",
       "4              45                                               70   73914  "
      ]
     },
     "execution_count": 22,
     "metadata": {},
     "output_type": "execute_result"
    }
   ],
   "source": [
    "df = pd.read_csv('africa.csv')\n",
    "df.head()"
   ]
  },
  {
   "cell_type": "code",
   "execution_count": 23,
   "metadata": {},
   "outputs": [
    {
     "data": {
      "text/html": [
       "<div>\n",
       "<style scoped>\n",
       "    .dataframe tbody tr th:only-of-type {\n",
       "        vertical-align: middle;\n",
       "    }\n",
       "\n",
       "    .dataframe tbody tr th {\n",
       "        vertical-align: top;\n",
       "    }\n",
       "\n",
       "    .dataframe thead th {\n",
       "        text-align: right;\n",
       "    }\n",
       "</style>\n",
       "<table border=\"1\" class=\"dataframe\">\n",
       "  <thead>\n",
       "    <tr style=\"text-align: right;\">\n",
       "      <th></th>\n",
       "      <th>Date</th>\n",
       "      <th>Population</th>\n",
       "      <th>Measles containing vaccine 2nd dose(MCV2)</th>\n",
       "      <th>Humanresources</th>\n",
       "      <th>Measles containing vaccine 1st dose(MCV2)(MCV1)</th>\n",
       "      <th>rcases</th>\n",
       "    </tr>\n",
       "  </thead>\n",
       "  <tbody>\n",
       "    <tr>\n",
       "      <th>Date</th>\n",
       "      <td>1</td>\n",
       "      <td>-1</td>\n",
       "      <td>1</td>\n",
       "      <td>1</td>\n",
       "      <td>1</td>\n",
       "      <td>-1</td>\n",
       "    </tr>\n",
       "    <tr>\n",
       "      <th>Population</th>\n",
       "      <td>-1</td>\n",
       "      <td>1</td>\n",
       "      <td>-1</td>\n",
       "      <td>-1</td>\n",
       "      <td>-1</td>\n",
       "      <td>1</td>\n",
       "    </tr>\n",
       "    <tr>\n",
       "      <th>Measles containing vaccine 2nd dose(MCV2)</th>\n",
       "      <td>1</td>\n",
       "      <td>-1</td>\n",
       "      <td>1</td>\n",
       "      <td>1</td>\n",
       "      <td>1</td>\n",
       "      <td>-0</td>\n",
       "    </tr>\n",
       "    <tr>\n",
       "      <th>Humanresources</th>\n",
       "      <td>1</td>\n",
       "      <td>-1</td>\n",
       "      <td>1</td>\n",
       "      <td>1</td>\n",
       "      <td>1</td>\n",
       "      <td>-1</td>\n",
       "    </tr>\n",
       "    <tr>\n",
       "      <th>Measles containing vaccine 1st dose(MCV2)(MCV1)</th>\n",
       "      <td>1</td>\n",
       "      <td>-1</td>\n",
       "      <td>1</td>\n",
       "      <td>1</td>\n",
       "      <td>1</td>\n",
       "      <td>-1</td>\n",
       "    </tr>\n",
       "    <tr>\n",
       "      <th>rcases</th>\n",
       "      <td>-1</td>\n",
       "      <td>1</td>\n",
       "      <td>-0</td>\n",
       "      <td>-1</td>\n",
       "      <td>-1</td>\n",
       "      <td>1</td>\n",
       "    </tr>\n",
       "  </tbody>\n",
       "</table>\n",
       "</div>"
      ],
      "text/plain": [
       "                                                 Date  Population  \\\n",
       "Date                                                1          -1   \n",
       "Population                                         -1           1   \n",
       "Measles containing vaccine 2nd dose(MCV2)           1          -1   \n",
       "Humanresources                                      1          -1   \n",
       "Measles containing vaccine 1st dose(MCV2)(MCV1)     1          -1   \n",
       "rcases                                             -1           1   \n",
       "\n",
       "                                                 Measles containing vaccine 2nd dose(MCV2)  \\\n",
       "Date                                                                                     1   \n",
       "Population                                                                              -1   \n",
       "Measles containing vaccine 2nd dose(MCV2)                                                1   \n",
       "Humanresources                                                                           1   \n",
       "Measles containing vaccine 1st dose(MCV2)(MCV1)                                          1   \n",
       "rcases                                                                                  -0   \n",
       "\n",
       "                                                 Humanresources  \\\n",
       "Date                                                          1   \n",
       "Population                                                   -1   \n",
       "Measles containing vaccine 2nd dose(MCV2)                     1   \n",
       "Humanresources                                                1   \n",
       "Measles containing vaccine 1st dose(MCV2)(MCV1)               1   \n",
       "rcases                                                       -1   \n",
       "\n",
       "                                                 Measles containing vaccine 1st dose(MCV2)(MCV1)  \\\n",
       "Date                                                                                           1   \n",
       "Population                                                                                    -1   \n",
       "Measles containing vaccine 2nd dose(MCV2)                                                      1   \n",
       "Humanresources                                                                                 1   \n",
       "Measles containing vaccine 1st dose(MCV2)(MCV1)                                                1   \n",
       "rcases                                                                                        -1   \n",
       "\n",
       "                                                 rcases  \n",
       "Date                                                 -1  \n",
       "Population                                            1  \n",
       "Measles containing vaccine 2nd dose(MCV2)            -0  \n",
       "Humanresources                                       -1  \n",
       "Measles containing vaccine 1st dose(MCV2)(MCV1)      -1  \n",
       "rcases                                                1  "
      ]
     },
     "execution_count": 23,
     "metadata": {},
     "output_type": "execute_result"
    }
   ],
   "source": [
    "df.corr()"
   ]
  },
  {
   "cell_type": "code",
   "execution_count": 24,
   "metadata": {},
   "outputs": [
    {
     "data": {
      "text/html": [
       "<div>\n",
       "<style scoped>\n",
       "    .dataframe tbody tr th:only-of-type {\n",
       "        vertical-align: middle;\n",
       "    }\n",
       "\n",
       "    .dataframe tbody tr th {\n",
       "        vertical-align: top;\n",
       "    }\n",
       "\n",
       "    .dataframe thead th {\n",
       "        text-align: right;\n",
       "    }\n",
       "</style>\n",
       "<table border=\"1\" class=\"dataframe\">\n",
       "  <thead>\n",
       "    <tr style=\"text-align: right;\">\n",
       "      <th></th>\n",
       "      <th>Date</th>\n",
       "      <th>Population</th>\n",
       "      <th>Measles containing vaccine 2nd dose(MCV2)</th>\n",
       "      <th>Humanresources</th>\n",
       "      <th>Measles containing vaccine 1st dose(MCV2)(MCV1)</th>\n",
       "      <th>rcases</th>\n",
       "    </tr>\n",
       "  </thead>\n",
       "  <tbody>\n",
       "    <tr>\n",
       "      <th>0</th>\n",
       "      <td>False</td>\n",
       "      <td>False</td>\n",
       "      <td>False</td>\n",
       "      <td>False</td>\n",
       "      <td>False</td>\n",
       "      <td>False</td>\n",
       "    </tr>\n",
       "    <tr>\n",
       "      <th>1</th>\n",
       "      <td>False</td>\n",
       "      <td>False</td>\n",
       "      <td>False</td>\n",
       "      <td>False</td>\n",
       "      <td>False</td>\n",
       "      <td>False</td>\n",
       "    </tr>\n",
       "    <tr>\n",
       "      <th>2</th>\n",
       "      <td>False</td>\n",
       "      <td>False</td>\n",
       "      <td>False</td>\n",
       "      <td>False</td>\n",
       "      <td>False</td>\n",
       "      <td>False</td>\n",
       "    </tr>\n",
       "    <tr>\n",
       "      <th>3</th>\n",
       "      <td>False</td>\n",
       "      <td>False</td>\n",
       "      <td>False</td>\n",
       "      <td>False</td>\n",
       "      <td>False</td>\n",
       "      <td>False</td>\n",
       "    </tr>\n",
       "    <tr>\n",
       "      <th>4</th>\n",
       "      <td>False</td>\n",
       "      <td>False</td>\n",
       "      <td>False</td>\n",
       "      <td>False</td>\n",
       "      <td>False</td>\n",
       "      <td>False</td>\n",
       "    </tr>\n",
       "  </tbody>\n",
       "</table>\n",
       "</div>"
      ],
      "text/plain": [
       "    Date  Population  Measles containing vaccine 2nd dose(MCV2)  \\\n",
       "0  False       False                                      False   \n",
       "1  False       False                                      False   \n",
       "2  False       False                                      False   \n",
       "3  False       False                                      False   \n",
       "4  False       False                                      False   \n",
       "\n",
       "   Humanresources  Measles containing vaccine 1st dose(MCV2)(MCV1)  rcases  \n",
       "0           False                                            False   False  \n",
       "1           False                                            False   False  \n",
       "2           False                                            False   False  \n",
       "3           False                                            False   False  \n",
       "4           False                                            False   False  "
      ]
     },
     "execution_count": 24,
     "metadata": {},
     "output_type": "execute_result"
    }
   ],
   "source": [
    "df.isnull().head()"
   ]
  },
  {
   "cell_type": "code",
   "execution_count": 25,
   "metadata": {},
   "outputs": [
    {
     "data": {
      "text/plain": [
       "Date                                                0\n",
       "Population                                          0\n",
       "Measles containing vaccine 2nd dose(MCV2)           0\n",
       "Humanresources                                     10\n",
       "Measles containing vaccine 1st dose(MCV2)(MCV1)     0\n",
       "rcases                                              0\n",
       "dtype: int64"
      ]
     },
     "execution_count": 25,
     "metadata": {},
     "output_type": "execute_result"
    }
   ],
   "source": [
    "df.isnull().sum()"
   ]
  },
  {
   "cell_type": "code",
   "execution_count": 26,
   "metadata": {},
   "outputs": [
    {
     "name": "stdout",
     "output_type": "stream",
     "text": [
      "Missing values before dropping rows: \n",
      "Date                                                0\n",
      "Population                                          0\n",
      "Measles containing vaccine 2nd dose(MCV2)           0\n",
      "Humanresources                                     10\n",
      "Measles containing vaccine 1st dose(MCV2)(MCV1)     0\n",
      "rcases                                              0\n",
      "dtype: int64\n",
      "Missing values after dropping rows: \n",
      "Date                                               0\n",
      "Population                                         0\n",
      "Measles containing vaccine 2nd dose(MCV2)          0\n",
      "Humanresources                                     0\n",
      "Measles containing vaccine 1st dose(MCV2)(MCV1)    0\n",
      "rcases                                             0\n",
      "dtype: int64\n"
     ]
    }
   ],
   "source": [
    "print(\"Missing values before dropping rows: \")\n",
    "print(df.isnull().sum())\n",
    "\n",
    "\n",
    "mod_df = df.dropna()\n",
    "print(\"Missing values after dropping rows: \")\n",
    "print(mod_df.isnull().sum())"
   ]
  },
  {
   "cell_type": "code",
   "execution_count": 27,
   "metadata": {},
   "outputs": [],
   "source": [
    "df.fillna(df.mean(), inplace=True)"
   ]
  },
  {
   "cell_type": "code",
   "execution_count": 41,
   "metadata": {},
   "outputs": [],
   "source": [
    "X = df[['Population','Measles containing vaccine 2nd dose(MCV2)','Humanresources','Measles containing vaccine 1st dose(MCV2)(MCV1)']]\n",
    "y = df[['rcases']]"
   ]
  },
  {
   "cell_type": "code",
   "execution_count": 42,
   "metadata": {},
   "outputs": [],
   "source": [
    "from sklearn.model_selection import train_test_split\n",
    "\n",
    "# Split X and y into X_\n",
    "X_train, X_test, y_train, y_test = train_test_split(X, y, test_size=0.20, random_state=1)"
   ]
  },
  {
   "cell_type": "code",
   "execution_count": 43,
   "metadata": {},
   "outputs": [
    {
     "data": {
      "text/plain": [
       "LinearRegression(copy_X=True, fit_intercept=True, n_jobs=None, normalize=False)"
      ]
     },
     "execution_count": 43,
     "metadata": {},
     "output_type": "execute_result"
    }
   ],
   "source": [
    "# Train Model\n",
    "# Now we train our LinearRegression model using the training subset of data.\n",
    "\n",
    "from sklearn.linear_model import LinearRegression\n",
    "\n",
    "regression_model = LinearRegression()\n",
    "regression_model.fit(X_train, y_train)"
   ]
  },
  {
   "cell_type": "code",
   "execution_count": 44,
   "metadata": {},
   "outputs": [
    {
     "name": "stdout",
     "output_type": "stream",
     "text": [
      "The coefficient for Population is -0.0007682068744165228\n",
      "The coefficient for Measles containing vaccine 2nd dose(MCV2) is -556.031856611332\n",
      "The coefficient for Humanresources is -1512.2001075509147\n",
      "The coefficient for Measles containing vaccine 1st dose(MCV2)(MCV1) is -3277.832637482962\n"
     ]
    }
   ],
   "source": [
    "# Now that our model is trained, we can view the coefficients of the model using regression_model.coef_, \n",
    "# which is an array of tuples of coefficients.\n",
    "# Each regression coefficient shows the strength of the relationship between the predictor variable and the\n",
    "# outcome variable while controlling for the other predictor variable \n",
    "\n",
    "for idx, col_name in enumerate(X_train.columns):\n",
    "    print(\"The coefficient for {} is {}\".format(col_name, regression_model.coef_[0][idx]))"
   ]
  },
  {
   "cell_type": "code",
   "execution_count": 45,
   "metadata": {},
   "outputs": [
    {
     "name": "stdout",
     "output_type": "stream",
     "text": [
      "The intercept for our model is 1014860.7322068448\n"
     ]
    }
   ],
   "source": [
    "# regression_model.intercept_ returns an array of intercepts\n",
    "intercept = regression_model.intercept_[0]\n",
    "\n",
    "print(\"The intercept for our model is {}\".format(intercept))"
   ]
  },
  {
   "cell_type": "code",
   "execution_count": 46,
   "metadata": {},
   "outputs": [
    {
     "data": {
      "text/plain": [
       "-2.2248164304894016"
      ]
     },
     "execution_count": 46,
     "metadata": {},
     "output_type": "execute_result"
    }
   ],
   "source": [
    "# R^2  can be determined using our test set and the model’s score method.\n",
    "\n",
    "regression_model.score(X_test, y_test)\n",
    "\n",
    "# This means that in our mode, 80% of the variability in Y can be explained using X"
   ]
  },
  {
   "cell_type": "markdown",
   "metadata": {},
   "source": [
    "# Europe model"
   ]
  },
  {
   "cell_type": "code",
   "execution_count": 47,
   "metadata": {},
   "outputs": [
    {
     "data": {
      "text/html": [
       "<div>\n",
       "<style scoped>\n",
       "    .dataframe tbody tr th:only-of-type {\n",
       "        vertical-align: middle;\n",
       "    }\n",
       "\n",
       "    .dataframe tbody tr th {\n",
       "        vertical-align: top;\n",
       "    }\n",
       "\n",
       "    .dataframe thead th {\n",
       "        text-align: right;\n",
       "    }\n",
       "</style>\n",
       "<table border=\"1\" class=\"dataframe\">\n",
       "  <thead>\n",
       "    <tr style=\"text-align: right;\">\n",
       "      <th></th>\n",
       "      <th>Date</th>\n",
       "      <th>Population</th>\n",
       "      <th>Measles containing vaccine 2nd dose(MCV2)</th>\n",
       "      <th>Humanresources</th>\n",
       "      <th>Measles containing vaccine 1st dose(MCV2)(MCV1)</th>\n",
       "      <th>rcases</th>\n",
       "    </tr>\n",
       "  </thead>\n",
       "  <tbody>\n",
       "    <tr>\n",
       "      <th>0</th>\n",
       "      <td>2,017</td>\n",
       "      <td>725,558,016</td>\n",
       "      <td>90</td>\n",
       "      <td>45</td>\n",
       "      <td>95</td>\n",
       "      <td>82523</td>\n",
       "    </tr>\n",
       "    <tr>\n",
       "      <th>1</th>\n",
       "      <td>2,016</td>\n",
       "      <td>725,772,032</td>\n",
       "      <td>88</td>\n",
       "      <td>42</td>\n",
       "      <td>93</td>\n",
       "      <td>24356</td>\n",
       "    </tr>\n",
       "    <tr>\n",
       "      <th>2</th>\n",
       "      <td>2,015</td>\n",
       "      <td>726,312,000</td>\n",
       "      <td>89</td>\n",
       "      <td>53</td>\n",
       "      <td>94</td>\n",
       "      <td>4363</td>\n",
       "    </tr>\n",
       "    <tr>\n",
       "      <th>3</th>\n",
       "      <td>2,014</td>\n",
       "      <td>727,134,016</td>\n",
       "      <td>89</td>\n",
       "      <td>53</td>\n",
       "      <td>94</td>\n",
       "      <td>25965</td>\n",
       "    </tr>\n",
       "    <tr>\n",
       "      <th>4</th>\n",
       "      <td>2,013</td>\n",
       "      <td>728,150,016</td>\n",
       "      <td>89</td>\n",
       "      <td>52</td>\n",
       "      <td>95</td>\n",
       "      <td>14176</td>\n",
       "    </tr>\n",
       "  </tbody>\n",
       "</table>\n",
       "</div>"
      ],
      "text/plain": [
       "   Date  Population  Measles containing vaccine 2nd dose(MCV2)  \\\n",
       "0 2,017 725,558,016                                         90   \n",
       "1 2,016 725,772,032                                         88   \n",
       "2 2,015 726,312,000                                         89   \n",
       "3 2,014 727,134,016                                         89   \n",
       "4 2,013 728,150,016                                         89   \n",
       "\n",
       "   Humanresources  Measles containing vaccine 1st dose(MCV2)(MCV1)  rcases  \n",
       "0              45                                               95   82523  \n",
       "1              42                                               93   24356  \n",
       "2              53                                               94    4363  \n",
       "3              53                                               94   25965  \n",
       "4              52                                               95   14176  "
      ]
     },
     "execution_count": 47,
     "metadata": {},
     "output_type": "execute_result"
    }
   ],
   "source": [
    "df = pd.read_csv('Europe.csv')\n",
    "df.head()"
   ]
  },
  {
   "cell_type": "code",
   "execution_count": 48,
   "metadata": {},
   "outputs": [
    {
     "data": {
      "text/html": [
       "<div>\n",
       "<style scoped>\n",
       "    .dataframe tbody tr th:only-of-type {\n",
       "        vertical-align: middle;\n",
       "    }\n",
       "\n",
       "    .dataframe tbody tr th {\n",
       "        vertical-align: top;\n",
       "    }\n",
       "\n",
       "    .dataframe thead th {\n",
       "        text-align: right;\n",
       "    }\n",
       "</style>\n",
       "<table border=\"1\" class=\"dataframe\">\n",
       "  <thead>\n",
       "    <tr style=\"text-align: right;\">\n",
       "      <th></th>\n",
       "      <th>Date</th>\n",
       "      <th>Population</th>\n",
       "      <th>Measles containing vaccine 2nd dose(MCV2)</th>\n",
       "      <th>Humanresources</th>\n",
       "      <th>Measles containing vaccine 1st dose(MCV2)(MCV1)</th>\n",
       "      <th>rcases</th>\n",
       "    </tr>\n",
       "  </thead>\n",
       "  <tbody>\n",
       "    <tr>\n",
       "      <th>Date</th>\n",
       "      <td>1</td>\n",
       "      <td>-1</td>\n",
       "      <td>1</td>\n",
       "      <td>0</td>\n",
       "      <td>1</td>\n",
       "      <td>-0</td>\n",
       "    </tr>\n",
       "    <tr>\n",
       "      <th>Population</th>\n",
       "      <td>-1</td>\n",
       "      <td>1</td>\n",
       "      <td>-1</td>\n",
       "      <td>-1</td>\n",
       "      <td>-1</td>\n",
       "      <td>0</td>\n",
       "    </tr>\n",
       "    <tr>\n",
       "      <th>Measles containing vaccine 2nd dose(MCV2)</th>\n",
       "      <td>1</td>\n",
       "      <td>-1</td>\n",
       "      <td>1</td>\n",
       "      <td>1</td>\n",
       "      <td>1</td>\n",
       "      <td>-0</td>\n",
       "    </tr>\n",
       "    <tr>\n",
       "      <th>Humanresources</th>\n",
       "      <td>0</td>\n",
       "      <td>-1</td>\n",
       "      <td>1</td>\n",
       "      <td>1</td>\n",
       "      <td>0</td>\n",
       "      <td>-0</td>\n",
       "    </tr>\n",
       "    <tr>\n",
       "      <th>Measles containing vaccine 1st dose(MCV2)(MCV1)</th>\n",
       "      <td>1</td>\n",
       "      <td>-1</td>\n",
       "      <td>1</td>\n",
       "      <td>0</td>\n",
       "      <td>1</td>\n",
       "      <td>-0</td>\n",
       "    </tr>\n",
       "    <tr>\n",
       "      <th>rcases</th>\n",
       "      <td>-0</td>\n",
       "      <td>0</td>\n",
       "      <td>-0</td>\n",
       "      <td>-0</td>\n",
       "      <td>-0</td>\n",
       "      <td>1</td>\n",
       "    </tr>\n",
       "  </tbody>\n",
       "</table>\n",
       "</div>"
      ],
      "text/plain": [
       "                                                 Date  Population  \\\n",
       "Date                                                1          -1   \n",
       "Population                                         -1           1   \n",
       "Measles containing vaccine 2nd dose(MCV2)           1          -1   \n",
       "Humanresources                                      0          -1   \n",
       "Measles containing vaccine 1st dose(MCV2)(MCV1)     1          -1   \n",
       "rcases                                             -0           0   \n",
       "\n",
       "                                                 Measles containing vaccine 2nd dose(MCV2)  \\\n",
       "Date                                                                                     1   \n",
       "Population                                                                              -1   \n",
       "Measles containing vaccine 2nd dose(MCV2)                                                1   \n",
       "Humanresources                                                                           1   \n",
       "Measles containing vaccine 1st dose(MCV2)(MCV1)                                          1   \n",
       "rcases                                                                                  -0   \n",
       "\n",
       "                                                 Humanresources  \\\n",
       "Date                                                          0   \n",
       "Population                                                   -1   \n",
       "Measles containing vaccine 2nd dose(MCV2)                     1   \n",
       "Humanresources                                                1   \n",
       "Measles containing vaccine 1st dose(MCV2)(MCV1)               0   \n",
       "rcases                                                       -0   \n",
       "\n",
       "                                                 Measles containing vaccine 1st dose(MCV2)(MCV1)  \\\n",
       "Date                                                                                           1   \n",
       "Population                                                                                    -1   \n",
       "Measles containing vaccine 2nd dose(MCV2)                                                      1   \n",
       "Humanresources                                                                                 0   \n",
       "Measles containing vaccine 1st dose(MCV2)(MCV1)                                                1   \n",
       "rcases                                                                                        -0   \n",
       "\n",
       "                                                 rcases  \n",
       "Date                                                 -0  \n",
       "Population                                            0  \n",
       "Measles containing vaccine 2nd dose(MCV2)            -0  \n",
       "Humanresources                                       -0  \n",
       "Measles containing vaccine 1st dose(MCV2)(MCV1)      -0  \n",
       "rcases                                                1  "
      ]
     },
     "execution_count": 48,
     "metadata": {},
     "output_type": "execute_result"
    }
   ],
   "source": [
    "df.corr()"
   ]
  },
  {
   "cell_type": "code",
   "execution_count": 49,
   "metadata": {},
   "outputs": [
    {
     "data": {
      "text/html": [
       "<div>\n",
       "<style scoped>\n",
       "    .dataframe tbody tr th:only-of-type {\n",
       "        vertical-align: middle;\n",
       "    }\n",
       "\n",
       "    .dataframe tbody tr th {\n",
       "        vertical-align: top;\n",
       "    }\n",
       "\n",
       "    .dataframe thead th {\n",
       "        text-align: right;\n",
       "    }\n",
       "</style>\n",
       "<table border=\"1\" class=\"dataframe\">\n",
       "  <thead>\n",
       "    <tr style=\"text-align: right;\">\n",
       "      <th></th>\n",
       "      <th>Date</th>\n",
       "      <th>Population</th>\n",
       "      <th>Measles containing vaccine 2nd dose(MCV2)</th>\n",
       "      <th>Humanresources</th>\n",
       "      <th>Measles containing vaccine 1st dose(MCV2)(MCV1)</th>\n",
       "      <th>rcases</th>\n",
       "    </tr>\n",
       "  </thead>\n",
       "  <tbody>\n",
       "    <tr>\n",
       "      <th>0</th>\n",
       "      <td>False</td>\n",
       "      <td>False</td>\n",
       "      <td>False</td>\n",
       "      <td>False</td>\n",
       "      <td>False</td>\n",
       "      <td>False</td>\n",
       "    </tr>\n",
       "    <tr>\n",
       "      <th>1</th>\n",
       "      <td>False</td>\n",
       "      <td>False</td>\n",
       "      <td>False</td>\n",
       "      <td>False</td>\n",
       "      <td>False</td>\n",
       "      <td>False</td>\n",
       "    </tr>\n",
       "    <tr>\n",
       "      <th>2</th>\n",
       "      <td>False</td>\n",
       "      <td>False</td>\n",
       "      <td>False</td>\n",
       "      <td>False</td>\n",
       "      <td>False</td>\n",
       "      <td>False</td>\n",
       "    </tr>\n",
       "    <tr>\n",
       "      <th>3</th>\n",
       "      <td>False</td>\n",
       "      <td>False</td>\n",
       "      <td>False</td>\n",
       "      <td>False</td>\n",
       "      <td>False</td>\n",
       "      <td>False</td>\n",
       "    </tr>\n",
       "    <tr>\n",
       "      <th>4</th>\n",
       "      <td>False</td>\n",
       "      <td>False</td>\n",
       "      <td>False</td>\n",
       "      <td>False</td>\n",
       "      <td>False</td>\n",
       "      <td>False</td>\n",
       "    </tr>\n",
       "  </tbody>\n",
       "</table>\n",
       "</div>"
      ],
      "text/plain": [
       "    Date  Population  Measles containing vaccine 2nd dose(MCV2)  \\\n",
       "0  False       False                                      False   \n",
       "1  False       False                                      False   \n",
       "2  False       False                                      False   \n",
       "3  False       False                                      False   \n",
       "4  False       False                                      False   \n",
       "\n",
       "   Humanresources  Measles containing vaccine 1st dose(MCV2)(MCV1)  rcases  \n",
       "0           False                                            False   False  \n",
       "1           False                                            False   False  \n",
       "2           False                                            False   False  \n",
       "3           False                                            False   False  \n",
       "4           False                                            False   False  "
      ]
     },
     "execution_count": 49,
     "metadata": {},
     "output_type": "execute_result"
    }
   ],
   "source": [
    "df.isnull().head()"
   ]
  },
  {
   "cell_type": "code",
   "execution_count": 50,
   "metadata": {},
   "outputs": [
    {
     "data": {
      "text/plain": [
       "Date                                                1\n",
       "Population                                          1\n",
       "Measles containing vaccine 2nd dose(MCV2)           1\n",
       "Humanresources                                     11\n",
       "Measles containing vaccine 1st dose(MCV2)(MCV1)     1\n",
       "rcases                                              0\n",
       "dtype: int64"
      ]
     },
     "execution_count": 50,
     "metadata": {},
     "output_type": "execute_result"
    }
   ],
   "source": [
    "df.isnull().sum()"
   ]
  },
  {
   "cell_type": "code",
   "execution_count": 51,
   "metadata": {},
   "outputs": [
    {
     "name": "stdout",
     "output_type": "stream",
     "text": [
      "Missing values before dropping rows: \n",
      "Date                                                1\n",
      "Population                                          1\n",
      "Measles containing vaccine 2nd dose(MCV2)           1\n",
      "Humanresources                                     11\n",
      "Measles containing vaccine 1st dose(MCV2)(MCV1)     1\n",
      "rcases                                              0\n",
      "dtype: int64\n",
      "Missing values after dropping rows: \n",
      "Date                                               0\n",
      "Population                                         0\n",
      "Measles containing vaccine 2nd dose(MCV2)          0\n",
      "Humanresources                                     0\n",
      "Measles containing vaccine 1st dose(MCV2)(MCV1)    0\n",
      "rcases                                             0\n",
      "dtype: int64\n"
     ]
    }
   ],
   "source": [
    "print(\"Missing values before dropping rows: \")\n",
    "print(df.isnull().sum())\n",
    "\n",
    "\n",
    "mod_df = df.dropna()\n",
    "print(\"Missing values after dropping rows: \")\n",
    "print(mod_df.isnull().sum())"
   ]
  },
  {
   "cell_type": "code",
   "execution_count": 52,
   "metadata": {},
   "outputs": [],
   "source": [
    "df.fillna(df.mean(), inplace=True)"
   ]
  },
  {
   "cell_type": "code",
   "execution_count": 53,
   "metadata": {},
   "outputs": [],
   "source": [
    "X = df[['Population','Measles containing vaccine 2nd dose(MCV2)','Humanresources','Measles containing vaccine 1st dose(MCV2)(MCV1)']]\n",
    "y = df[['rcases']]"
   ]
  },
  {
   "cell_type": "code",
   "execution_count": 54,
   "metadata": {},
   "outputs": [],
   "source": [
    "from sklearn.model_selection import train_test_split\n",
    "\n",
    "# Split X and y into X_\n",
    "X_train, X_test, y_train, y_test = train_test_split(X, y, test_size=0.20, random_state=1)"
   ]
  },
  {
   "cell_type": "code",
   "execution_count": 55,
   "metadata": {},
   "outputs": [
    {
     "data": {
      "text/plain": [
       "LinearRegression(copy_X=True, fit_intercept=True, n_jobs=None, normalize=False)"
      ]
     },
     "execution_count": 55,
     "metadata": {},
     "output_type": "execute_result"
    }
   ],
   "source": [
    "# Train Model\n",
    "# Now we train our LinearRegression model using the training subset of data.\n",
    "\n",
    "from sklearn.linear_model import LinearRegression\n",
    "\n",
    "regression_model = LinearRegression()\n",
    "regression_model.fit(X_train, y_train)"
   ]
  },
  {
   "cell_type": "code",
   "execution_count": 56,
   "metadata": {},
   "outputs": [
    {
     "name": "stdout",
     "output_type": "stream",
     "text": [
      "The coefficient for Population is -0.0007682068744165228\n",
      "The coefficient for Measles containing vaccine 2nd dose(MCV2) is -556.031856611332\n",
      "The coefficient for Humanresources is -1512.2001075509147\n",
      "The coefficient for Measles containing vaccine 1st dose(MCV2)(MCV1) is -3277.832637482962\n"
     ]
    }
   ],
   "source": [
    "# Now that our model is trained, we can view the coefficients of the model using regression_model.coef_, \n",
    "# which is an array of tuples of coefficients.\n",
    "# Each regression coefficient shows the strength of the relationship between the predictor variable and the\n",
    "# outcome variable while controlling for the other predictor variable \n",
    "\n",
    "for idx, col_name in enumerate(X_train.columns):\n",
    "    print(\"The coefficient for {} is {}\".format(col_name, regression_model.coef_[0][idx]))"
   ]
  },
  {
   "cell_type": "code",
   "execution_count": 57,
   "metadata": {},
   "outputs": [
    {
     "name": "stdout",
     "output_type": "stream",
     "text": [
      "The intercept for our model is 1014860.7322068448\n"
     ]
    }
   ],
   "source": [
    "# regression_model.intercept_ returns an array of intercepts\n",
    "intercept = regression_model.intercept_[0]\n",
    "\n",
    "print(\"The intercept for our model is {}\".format(intercept))"
   ]
  },
  {
   "cell_type": "code",
   "execution_count": 58,
   "metadata": {},
   "outputs": [
    {
     "data": {
      "text/plain": [
       "-2.2248164304894016"
      ]
     },
     "execution_count": 58,
     "metadata": {},
     "output_type": "execute_result"
    }
   ],
   "source": [
    "# R^2  can be determined using our test set and the model’s score method.\n",
    "\n",
    "regression_model.score(X_test, y_test)\n",
    "\n",
    "# This means that in our model,  of the variability in Y can be explained using X"
   ]
  },
  {
   "cell_type": "markdown",
   "metadata": {},
   "source": [
    "# South East Asia Model"
   ]
  },
  {
   "cell_type": "code",
   "execution_count": 59,
   "metadata": {},
   "outputs": [
    {
     "data": {
      "text/html": [
       "<div>\n",
       "<style scoped>\n",
       "    .dataframe tbody tr th:only-of-type {\n",
       "        vertical-align: middle;\n",
       "    }\n",
       "\n",
       "    .dataframe tbody tr th {\n",
       "        vertical-align: top;\n",
       "    }\n",
       "\n",
       "    .dataframe thead th {\n",
       "        text-align: right;\n",
       "    }\n",
       "</style>\n",
       "<table border=\"1\" class=\"dataframe\">\n",
       "  <thead>\n",
       "    <tr style=\"text-align: right;\">\n",
       "      <th></th>\n",
       "      <th>Date</th>\n",
       "      <th>Population</th>\n",
       "      <th>Measles containing vaccine 2nd dose(MCV2)</th>\n",
       "      <th>Humanresources</th>\n",
       "      <th>Measles containing vaccine 1st dose(MCV1)</th>\n",
       "      <th>reported cases</th>\n",
       "    </tr>\n",
       "  </thead>\n",
       "  <tbody>\n",
       "    <tr>\n",
       "      <th>0</th>\n",
       "      <td>2,017</td>\n",
       "      <td>3,741,263,104</td>\n",
       "      <td>79</td>\n",
       "      <td>65</td>\n",
       "      <td>89</td>\n",
       "      <td>34741</td>\n",
       "    </tr>\n",
       "    <tr>\n",
       "      <th>1</th>\n",
       "      <td>2,016</td>\n",
       "      <td>3,789,285,120</td>\n",
       "      <td>75</td>\n",
       "      <td>78</td>\n",
       "      <td>88</td>\n",
       "      <td>28474</td>\n",
       "    </tr>\n",
       "    <tr>\n",
       "      <th>2</th>\n",
       "      <td>2,015</td>\n",
       "      <td>3,836,879,872</td>\n",
       "      <td>66</td>\n",
       "      <td>69</td>\n",
       "      <td>87</td>\n",
       "      <td>27530</td>\n",
       "    </tr>\n",
       "    <tr>\n",
       "      <th>3</th>\n",
       "      <td>2,014</td>\n",
       "      <td>3,884,134,912</td>\n",
       "      <td>59</td>\n",
       "      <td>74</td>\n",
       "      <td>85</td>\n",
       "      <td>48888</td>\n",
       "    </tr>\n",
       "    <tr>\n",
       "      <th>4</th>\n",
       "      <td>2,013</td>\n",
       "      <td>3,931,145,984</td>\n",
       "      <td>59</td>\n",
       "      <td>69</td>\n",
       "      <td>84</td>\n",
       "      <td>42899</td>\n",
       "    </tr>\n",
       "  </tbody>\n",
       "</table>\n",
       "</div>"
      ],
      "text/plain": [
       "   Date    Population  Measles containing vaccine 2nd dose(MCV2)  \\\n",
       "0 2,017 3,741,263,104                                         79   \n",
       "1 2,016 3,789,285,120                                         75   \n",
       "2 2,015 3,836,879,872                                         66   \n",
       "3 2,014 3,884,134,912                                         59   \n",
       "4 2,013 3,931,145,984                                         59   \n",
       "\n",
       "   Humanresources  Measles containing vaccine 1st dose(MCV1)  reported cases  \n",
       "0              65                                         89           34741  \n",
       "1              78                                         88           28474  \n",
       "2              69                                         87           27530  \n",
       "3              74                                         85           48888  \n",
       "4              69                                         84           42899  "
      ]
     },
     "execution_count": 59,
     "metadata": {},
     "output_type": "execute_result"
    }
   ],
   "source": [
    "df = pd.read_csv('Asia.csv')\n",
    "df.head()"
   ]
  },
  {
   "cell_type": "code",
   "execution_count": 60,
   "metadata": {},
   "outputs": [
    {
     "data": {
      "text/html": [
       "<div>\n",
       "<style scoped>\n",
       "    .dataframe tbody tr th:only-of-type {\n",
       "        vertical-align: middle;\n",
       "    }\n",
       "\n",
       "    .dataframe tbody tr th {\n",
       "        vertical-align: top;\n",
       "    }\n",
       "\n",
       "    .dataframe thead th {\n",
       "        text-align: right;\n",
       "    }\n",
       "</style>\n",
       "<table border=\"1\" class=\"dataframe\">\n",
       "  <thead>\n",
       "    <tr style=\"text-align: right;\">\n",
       "      <th></th>\n",
       "      <th>Date</th>\n",
       "      <th>Population</th>\n",
       "      <th>Measles containing vaccine 2nd dose(MCV2)</th>\n",
       "      <th>Humanresources</th>\n",
       "      <th>Measles containing vaccine 1st dose(MCV1)</th>\n",
       "      <th>reported cases</th>\n",
       "    </tr>\n",
       "  </thead>\n",
       "  <tbody>\n",
       "    <tr>\n",
       "      <th>Date</th>\n",
       "      <td>1</td>\n",
       "      <td>-1</td>\n",
       "      <td>1</td>\n",
       "      <td>1</td>\n",
       "      <td>1</td>\n",
       "      <td>-1</td>\n",
       "    </tr>\n",
       "    <tr>\n",
       "      <th>Population</th>\n",
       "      <td>-1</td>\n",
       "      <td>1</td>\n",
       "      <td>-1</td>\n",
       "      <td>-1</td>\n",
       "      <td>-1</td>\n",
       "      <td>1</td>\n",
       "    </tr>\n",
       "    <tr>\n",
       "      <th>Measles containing vaccine 2nd dose(MCV2)</th>\n",
       "      <td>1</td>\n",
       "      <td>-1</td>\n",
       "      <td>1</td>\n",
       "      <td>1</td>\n",
       "      <td>1</td>\n",
       "      <td>-1</td>\n",
       "    </tr>\n",
       "    <tr>\n",
       "      <th>Humanresources</th>\n",
       "      <td>1</td>\n",
       "      <td>-1</td>\n",
       "      <td>1</td>\n",
       "      <td>1</td>\n",
       "      <td>0</td>\n",
       "      <td>-0</td>\n",
       "    </tr>\n",
       "    <tr>\n",
       "      <th>Measles containing vaccine 1st dose(MCV1)</th>\n",
       "      <td>1</td>\n",
       "      <td>-1</td>\n",
       "      <td>1</td>\n",
       "      <td>0</td>\n",
       "      <td>1</td>\n",
       "      <td>-1</td>\n",
       "    </tr>\n",
       "    <tr>\n",
       "      <th>reported cases</th>\n",
       "      <td>-1</td>\n",
       "      <td>1</td>\n",
       "      <td>-1</td>\n",
       "      <td>-0</td>\n",
       "      <td>-1</td>\n",
       "      <td>1</td>\n",
       "    </tr>\n",
       "  </tbody>\n",
       "</table>\n",
       "</div>"
      ],
      "text/plain": [
       "                                           Date  Population  \\\n",
       "Date                                          1          -1   \n",
       "Population                                   -1           1   \n",
       "Measles containing vaccine 2nd dose(MCV2)     1          -1   \n",
       "Humanresources                                1          -1   \n",
       "Measles containing vaccine 1st dose(MCV1)     1          -1   \n",
       "reported cases                               -1           1   \n",
       "\n",
       "                                           Measles containing vaccine 2nd dose(MCV2)  \\\n",
       "Date                                                                               1   \n",
       "Population                                                                        -1   \n",
       "Measles containing vaccine 2nd dose(MCV2)                                          1   \n",
       "Humanresources                                                                     1   \n",
       "Measles containing vaccine 1st dose(MCV1)                                          1   \n",
       "reported cases                                                                    -1   \n",
       "\n",
       "                                           Humanresources  \\\n",
       "Date                                                    1   \n",
       "Population                                             -1   \n",
       "Measles containing vaccine 2nd dose(MCV2)               1   \n",
       "Humanresources                                          1   \n",
       "Measles containing vaccine 1st dose(MCV1)               0   \n",
       "reported cases                                         -0   \n",
       "\n",
       "                                           Measles containing vaccine 1st dose(MCV1)  \\\n",
       "Date                                                                               1   \n",
       "Population                                                                        -1   \n",
       "Measles containing vaccine 2nd dose(MCV2)                                          1   \n",
       "Humanresources                                                                     0   \n",
       "Measles containing vaccine 1st dose(MCV1)                                          1   \n",
       "reported cases                                                                    -1   \n",
       "\n",
       "                                           reported cases  \n",
       "Date                                                   -1  \n",
       "Population                                              1  \n",
       "Measles containing vaccine 2nd dose(MCV2)              -1  \n",
       "Humanresources                                         -0  \n",
       "Measles containing vaccine 1st dose(MCV1)              -1  \n",
       "reported cases                                          1  "
      ]
     },
     "execution_count": 60,
     "metadata": {},
     "output_type": "execute_result"
    }
   ],
   "source": [
    "df.corr()"
   ]
  },
  {
   "cell_type": "code",
   "execution_count": 61,
   "metadata": {},
   "outputs": [
    {
     "data": {
      "text/html": [
       "<div>\n",
       "<style scoped>\n",
       "    .dataframe tbody tr th:only-of-type {\n",
       "        vertical-align: middle;\n",
       "    }\n",
       "\n",
       "    .dataframe tbody tr th {\n",
       "        vertical-align: top;\n",
       "    }\n",
       "\n",
       "    .dataframe thead th {\n",
       "        text-align: right;\n",
       "    }\n",
       "</style>\n",
       "<table border=\"1\" class=\"dataframe\">\n",
       "  <thead>\n",
       "    <tr style=\"text-align: right;\">\n",
       "      <th></th>\n",
       "      <th>Date</th>\n",
       "      <th>Population</th>\n",
       "      <th>Measles containing vaccine 2nd dose(MCV2)</th>\n",
       "      <th>Humanresources</th>\n",
       "      <th>Measles containing vaccine 1st dose(MCV1)</th>\n",
       "      <th>reported cases</th>\n",
       "    </tr>\n",
       "  </thead>\n",
       "  <tbody>\n",
       "    <tr>\n",
       "      <th>0</th>\n",
       "      <td>False</td>\n",
       "      <td>False</td>\n",
       "      <td>False</td>\n",
       "      <td>False</td>\n",
       "      <td>False</td>\n",
       "      <td>False</td>\n",
       "    </tr>\n",
       "    <tr>\n",
       "      <th>1</th>\n",
       "      <td>False</td>\n",
       "      <td>False</td>\n",
       "      <td>False</td>\n",
       "      <td>False</td>\n",
       "      <td>False</td>\n",
       "      <td>False</td>\n",
       "    </tr>\n",
       "    <tr>\n",
       "      <th>2</th>\n",
       "      <td>False</td>\n",
       "      <td>False</td>\n",
       "      <td>False</td>\n",
       "      <td>False</td>\n",
       "      <td>False</td>\n",
       "      <td>False</td>\n",
       "    </tr>\n",
       "    <tr>\n",
       "      <th>3</th>\n",
       "      <td>False</td>\n",
       "      <td>False</td>\n",
       "      <td>False</td>\n",
       "      <td>False</td>\n",
       "      <td>False</td>\n",
       "      <td>False</td>\n",
       "    </tr>\n",
       "    <tr>\n",
       "      <th>4</th>\n",
       "      <td>False</td>\n",
       "      <td>False</td>\n",
       "      <td>False</td>\n",
       "      <td>False</td>\n",
       "      <td>False</td>\n",
       "      <td>False</td>\n",
       "    </tr>\n",
       "  </tbody>\n",
       "</table>\n",
       "</div>"
      ],
      "text/plain": [
       "    Date  Population  Measles containing vaccine 2nd dose(MCV2)  \\\n",
       "0  False       False                                      False   \n",
       "1  False       False                                      False   \n",
       "2  False       False                                      False   \n",
       "3  False       False                                      False   \n",
       "4  False       False                                      False   \n",
       "\n",
       "   Humanresources  Measles containing vaccine 1st dose(MCV1)  reported cases  \n",
       "0           False                                      False           False  \n",
       "1           False                                      False           False  \n",
       "2           False                                      False           False  \n",
       "3           False                                      False           False  \n",
       "4           False                                      False           False  "
      ]
     },
     "execution_count": 61,
     "metadata": {},
     "output_type": "execute_result"
    }
   ],
   "source": [
    "df.isnull().head()"
   ]
  },
  {
   "cell_type": "code",
   "execution_count": 62,
   "metadata": {},
   "outputs": [
    {
     "data": {
      "text/plain": [
       "Date                                          1\n",
       "Population                                    1\n",
       "Measles containing vaccine 2nd dose(MCV2)     1\n",
       "Humanresources                               11\n",
       "Measles containing vaccine 1st dose(MCV1)     1\n",
       "reported cases                                0\n",
       "dtype: int64"
      ]
     },
     "execution_count": 62,
     "metadata": {},
     "output_type": "execute_result"
    }
   ],
   "source": [
    "df.isnull().sum()"
   ]
  },
  {
   "cell_type": "code",
   "execution_count": 63,
   "metadata": {},
   "outputs": [
    {
     "name": "stdout",
     "output_type": "stream",
     "text": [
      "Missing values before dropping rows: \n",
      "Date                                          1\n",
      "Population                                    1\n",
      "Measles containing vaccine 2nd dose(MCV2)     1\n",
      "Humanresources                               11\n",
      "Measles containing vaccine 1st dose(MCV1)     1\n",
      "reported cases                                0\n",
      "dtype: int64\n",
      "Missing values after dropping rows: \n",
      "Date                                         0\n",
      "Population                                   0\n",
      "Measles containing vaccine 2nd dose(MCV2)    0\n",
      "Humanresources                               0\n",
      "Measles containing vaccine 1st dose(MCV1)    0\n",
      "reported cases                               0\n",
      "dtype: int64\n"
     ]
    }
   ],
   "source": [
    "print(\"Missing values before dropping rows: \")\n",
    "print(df.isnull().sum())\n",
    "\n",
    "\n",
    "mod_df = df.dropna()\n",
    "print(\"Missing values after dropping rows: \")\n",
    "print(mod_df.isnull().sum())"
   ]
  },
  {
   "cell_type": "code",
   "execution_count": 64,
   "metadata": {},
   "outputs": [],
   "source": [
    "df.fillna(df.mean(), inplace=True)"
   ]
  },
  {
   "cell_type": "code",
   "execution_count": 65,
   "metadata": {},
   "outputs": [],
   "source": [
    "X = df[['Population','Measles containing vaccine 2nd dose(MCV2)','Humanresources','Measles containing vaccine 1st dose(MCV1)']]\n",
    "y = df[['reported cases']]"
   ]
  },
  {
   "cell_type": "code",
   "execution_count": 66,
   "metadata": {},
   "outputs": [],
   "source": [
    "from sklearn.model_selection import train_test_split\n",
    "\n",
    "# Split X and y into X_\n",
    "X_train, X_test, y_train, y_test = train_test_split(X, y, test_size=0.20, random_state=1)"
   ]
  },
  {
   "cell_type": "code",
   "execution_count": 67,
   "metadata": {},
   "outputs": [
    {
     "data": {
      "text/plain": [
       "LinearRegression(copy_X=True, fit_intercept=True, n_jobs=None, normalize=False)"
      ]
     },
     "execution_count": 67,
     "metadata": {},
     "output_type": "execute_result"
    }
   ],
   "source": [
    "# Train Model\n",
    "# Now we train our LinearRegression model using the training subset of data.\n",
    "\n",
    "from sklearn.linear_model import LinearRegression\n",
    "\n",
    "regression_model = LinearRegression()\n",
    "regression_model.fit(X_train, y_train)"
   ]
  },
  {
   "cell_type": "code",
   "execution_count": 68,
   "metadata": {},
   "outputs": [
    {
     "name": "stdout",
     "output_type": "stream",
     "text": [
      "The coefficient for Population is -0.0002900669496945225\n",
      "The coefficient for Measles containing vaccine 2nd dose(MCV2) is -1280.8137696403685\n",
      "The coefficient for Humanresources is -443.8365802203347\n",
      "The coefficient for Measles containing vaccine 1st dose(MCV1) is -6969.956015480857\n"
     ]
    }
   ],
   "source": [
    "# Now that our model is trained, we can view the coefficients of the model using regression_model.coef_, \n",
    "# which is an array of tuples of coefficients.\n",
    "# Each regression coefficient shows the strength of the relationship between the predictor variable and the\n",
    "# outcome variable while controlling for the other predictor variable \n",
    "\n",
    "for idx, col_name in enumerate(X_train.columns):\n",
    "    print(\"The coefficient for {} is {}\".format(col_name, regression_model.coef_[0][idx]))"
   ]
  },
  {
   "cell_type": "code",
   "execution_count": 69,
   "metadata": {},
   "outputs": [
    {
     "name": "stdout",
     "output_type": "stream",
     "text": [
      "The intercept for our model is 1867856.5380302272\n"
     ]
    }
   ],
   "source": [
    "# regression_model.intercept_ returns an array of intercepts\n",
    "intercept = regression_model.intercept_[0]\n",
    "\n",
    "print(\"The intercept for our model is {}\".format(intercept))"
   ]
  },
  {
   "cell_type": "code",
   "execution_count": 70,
   "metadata": {},
   "outputs": [
    {
     "data": {
      "text/plain": [
       "0.664198066636687"
      ]
     },
     "execution_count": 70,
     "metadata": {},
     "output_type": "execute_result"
    }
   ],
   "source": [
    "# R^2  can be determined using our test set and the model’s score method.\n",
    "\n",
    "regression_model.score(X_test, y_test)\n",
    "\n",
    "# This means that in our model,  of the variability in Y can be explained using X"
   ]
  },
  {
   "cell_type": "markdown",
   "metadata": {},
   "source": [
    "# America model"
   ]
  },
  {
   "cell_type": "code",
   "execution_count": 71,
   "metadata": {},
   "outputs": [
    {
     "data": {
      "text/html": [
       "<div>\n",
       "<style scoped>\n",
       "    .dataframe tbody tr th:only-of-type {\n",
       "        vertical-align: middle;\n",
       "    }\n",
       "\n",
       "    .dataframe tbody tr th {\n",
       "        vertical-align: top;\n",
       "    }\n",
       "\n",
       "    .dataframe thead th {\n",
       "        text-align: right;\n",
       "    }\n",
       "</style>\n",
       "<table border=\"1\" class=\"dataframe\">\n",
       "  <thead>\n",
       "    <tr style=\"text-align: right;\">\n",
       "      <th></th>\n",
       "      <th>Date</th>\n",
       "      <th>Population</th>\n",
       "      <th>Measles containing vaccine 2nd dose(MCV2)</th>\n",
       "      <th>Humanresources</th>\n",
       "      <th>Measles containing vaccine 1st dose(MCV1)</th>\n",
       "      <th>rcases</th>\n",
       "    </tr>\n",
       "  </thead>\n",
       "  <tbody>\n",
       "    <tr>\n",
       "      <th>0</th>\n",
       "      <td>2,017</td>\n",
       "      <td>312,427,008</td>\n",
       "      <td>76</td>\n",
       "      <td>58</td>\n",
       "      <td>90</td>\n",
       "      <td>895</td>\n",
       "    </tr>\n",
       "    <tr>\n",
       "      <th>1</th>\n",
       "      <td>2,016</td>\n",
       "      <td>315,616,000</td>\n",
       "      <td>80</td>\n",
       "      <td>69</td>\n",
       "      <td>88</td>\n",
       "      <td>97</td>\n",
       "    </tr>\n",
       "    <tr>\n",
       "      <th>2</th>\n",
       "      <td>2,015</td>\n",
       "      <td>318,585,984</td>\n",
       "      <td>78</td>\n",
       "      <td>68</td>\n",
       "      <td>92</td>\n",
       "      <td>611</td>\n",
       "    </tr>\n",
       "    <tr>\n",
       "      <th>3</th>\n",
       "      <td>2,014</td>\n",
       "      <td>321,432,000</td>\n",
       "      <td>78</td>\n",
       "      <td>68</td>\n",
       "      <td>93</td>\n",
       "      <td>1,966</td>\n",
       "    </tr>\n",
       "    <tr>\n",
       "      <th>4</th>\n",
       "      <td>2,013</td>\n",
       "      <td>324,299,008</td>\n",
       "      <td>70</td>\n",
       "      <td>68</td>\n",
       "      <td>92</td>\n",
       "      <td>491</td>\n",
       "    </tr>\n",
       "  </tbody>\n",
       "</table>\n",
       "</div>"
      ],
      "text/plain": [
       "   Date  Population  Measles containing vaccine 2nd dose(MCV2)  \\\n",
       "0 2,017 312,427,008                                         76   \n",
       "1 2,016 315,616,000                                         80   \n",
       "2 2,015 318,585,984                                         78   \n",
       "3 2,014 321,432,000                                         78   \n",
       "4 2,013 324,299,008                                         70   \n",
       "\n",
       "   Humanresources  Measles containing vaccine 1st dose(MCV1)  rcases  \n",
       "0              58                                         90     895  \n",
       "1              69                                         88      97  \n",
       "2              68                                         92     611  \n",
       "3              68                                         93   1,966  \n",
       "4              68                                         92     491  "
      ]
     },
     "execution_count": 71,
     "metadata": {},
     "output_type": "execute_result"
    }
   ],
   "source": [
    "df = pd.read_csv('America.csv')\n",
    "df.head()"
   ]
  },
  {
   "cell_type": "code",
   "execution_count": 72,
   "metadata": {},
   "outputs": [
    {
     "data": {
      "text/html": [
       "<div>\n",
       "<style scoped>\n",
       "    .dataframe tbody tr th:only-of-type {\n",
       "        vertical-align: middle;\n",
       "    }\n",
       "\n",
       "    .dataframe tbody tr th {\n",
       "        vertical-align: top;\n",
       "    }\n",
       "\n",
       "    .dataframe thead th {\n",
       "        text-align: right;\n",
       "    }\n",
       "</style>\n",
       "<table border=\"1\" class=\"dataframe\">\n",
       "  <thead>\n",
       "    <tr style=\"text-align: right;\">\n",
       "      <th></th>\n",
       "      <th>Date</th>\n",
       "      <th>Population</th>\n",
       "      <th>Measles containing vaccine 2nd dose(MCV2)</th>\n",
       "      <th>Humanresources</th>\n",
       "      <th>Measles containing vaccine 1st dose(MCV1)</th>\n",
       "      <th>rcases</th>\n",
       "    </tr>\n",
       "  </thead>\n",
       "  <tbody>\n",
       "    <tr>\n",
       "      <th>Date</th>\n",
       "      <td>1</td>\n",
       "      <td>-1</td>\n",
       "      <td>1</td>\n",
       "      <td>1</td>\n",
       "      <td>-1</td>\n",
       "      <td>-0</td>\n",
       "    </tr>\n",
       "    <tr>\n",
       "      <th>Population</th>\n",
       "      <td>-1</td>\n",
       "      <td>1</td>\n",
       "      <td>-1</td>\n",
       "      <td>-1</td>\n",
       "      <td>1</td>\n",
       "      <td>0</td>\n",
       "    </tr>\n",
       "    <tr>\n",
       "      <th>Measles containing vaccine 2nd dose(MCV2)</th>\n",
       "      <td>1</td>\n",
       "      <td>-1</td>\n",
       "      <td>1</td>\n",
       "      <td>1</td>\n",
       "      <td>-1</td>\n",
       "      <td>0</td>\n",
       "    </tr>\n",
       "    <tr>\n",
       "      <th>Humanresources</th>\n",
       "      <td>1</td>\n",
       "      <td>-1</td>\n",
       "      <td>1</td>\n",
       "      <td>1</td>\n",
       "      <td>-1</td>\n",
       "      <td>0</td>\n",
       "    </tr>\n",
       "    <tr>\n",
       "      <th>Measles containing vaccine 1st dose(MCV1)</th>\n",
       "      <td>-1</td>\n",
       "      <td>1</td>\n",
       "      <td>-1</td>\n",
       "      <td>-1</td>\n",
       "      <td>1</td>\n",
       "      <td>0</td>\n",
       "    </tr>\n",
       "    <tr>\n",
       "      <th>rcases</th>\n",
       "      <td>-0</td>\n",
       "      <td>0</td>\n",
       "      <td>0</td>\n",
       "      <td>0</td>\n",
       "      <td>0</td>\n",
       "      <td>1</td>\n",
       "    </tr>\n",
       "  </tbody>\n",
       "</table>\n",
       "</div>"
      ],
      "text/plain": [
       "                                           Date  Population  \\\n",
       "Date                                          1          -1   \n",
       "Population                                   -1           1   \n",
       "Measles containing vaccine 2nd dose(MCV2)     1          -1   \n",
       "Humanresources                                1          -1   \n",
       "Measles containing vaccine 1st dose(MCV1)    -1           1   \n",
       "rcases                                       -0           0   \n",
       "\n",
       "                                           Measles containing vaccine 2nd dose(MCV2)  \\\n",
       "Date                                                                               1   \n",
       "Population                                                                        -1   \n",
       "Measles containing vaccine 2nd dose(MCV2)                                          1   \n",
       "Humanresources                                                                     1   \n",
       "Measles containing vaccine 1st dose(MCV1)                                         -1   \n",
       "rcases                                                                             0   \n",
       "\n",
       "                                           Humanresources  \\\n",
       "Date                                                    1   \n",
       "Population                                             -1   \n",
       "Measles containing vaccine 2nd dose(MCV2)               1   \n",
       "Humanresources                                          1   \n",
       "Measles containing vaccine 1st dose(MCV1)              -1   \n",
       "rcases                                                  0   \n",
       "\n",
       "                                           Measles containing vaccine 1st dose(MCV1)  \\\n",
       "Date                                                                              -1   \n",
       "Population                                                                         1   \n",
       "Measles containing vaccine 2nd dose(MCV2)                                         -1   \n",
       "Humanresources                                                                    -1   \n",
       "Measles containing vaccine 1st dose(MCV1)                                          1   \n",
       "rcases                                                                             0   \n",
       "\n",
       "                                           rcases  \n",
       "Date                                           -0  \n",
       "Population                                      0  \n",
       "Measles containing vaccine 2nd dose(MCV2)       0  \n",
       "Humanresources                                  0  \n",
       "Measles containing vaccine 1st dose(MCV1)       0  \n",
       "rcases                                          1  "
      ]
     },
     "execution_count": 72,
     "metadata": {},
     "output_type": "execute_result"
    }
   ],
   "source": [
    "df.corr()"
   ]
  },
  {
   "cell_type": "code",
   "execution_count": 73,
   "metadata": {},
   "outputs": [
    {
     "data": {
      "text/html": [
       "<div>\n",
       "<style scoped>\n",
       "    .dataframe tbody tr th:only-of-type {\n",
       "        vertical-align: middle;\n",
       "    }\n",
       "\n",
       "    .dataframe tbody tr th {\n",
       "        vertical-align: top;\n",
       "    }\n",
       "\n",
       "    .dataframe thead th {\n",
       "        text-align: right;\n",
       "    }\n",
       "</style>\n",
       "<table border=\"1\" class=\"dataframe\">\n",
       "  <thead>\n",
       "    <tr style=\"text-align: right;\">\n",
       "      <th></th>\n",
       "      <th>Date</th>\n",
       "      <th>Population</th>\n",
       "      <th>Measles containing vaccine 2nd dose(MCV2)</th>\n",
       "      <th>Humanresources</th>\n",
       "      <th>Measles containing vaccine 1st dose(MCV1)</th>\n",
       "      <th>rcases</th>\n",
       "    </tr>\n",
       "  </thead>\n",
       "  <tbody>\n",
       "    <tr>\n",
       "      <th>0</th>\n",
       "      <td>False</td>\n",
       "      <td>False</td>\n",
       "      <td>False</td>\n",
       "      <td>False</td>\n",
       "      <td>False</td>\n",
       "      <td>False</td>\n",
       "    </tr>\n",
       "    <tr>\n",
       "      <th>1</th>\n",
       "      <td>False</td>\n",
       "      <td>False</td>\n",
       "      <td>False</td>\n",
       "      <td>False</td>\n",
       "      <td>False</td>\n",
       "      <td>False</td>\n",
       "    </tr>\n",
       "    <tr>\n",
       "      <th>2</th>\n",
       "      <td>False</td>\n",
       "      <td>False</td>\n",
       "      <td>False</td>\n",
       "      <td>False</td>\n",
       "      <td>False</td>\n",
       "      <td>False</td>\n",
       "    </tr>\n",
       "    <tr>\n",
       "      <th>3</th>\n",
       "      <td>False</td>\n",
       "      <td>False</td>\n",
       "      <td>False</td>\n",
       "      <td>False</td>\n",
       "      <td>False</td>\n",
       "      <td>False</td>\n",
       "    </tr>\n",
       "    <tr>\n",
       "      <th>4</th>\n",
       "      <td>False</td>\n",
       "      <td>False</td>\n",
       "      <td>False</td>\n",
       "      <td>False</td>\n",
       "      <td>False</td>\n",
       "      <td>False</td>\n",
       "    </tr>\n",
       "  </tbody>\n",
       "</table>\n",
       "</div>"
      ],
      "text/plain": [
       "    Date  Population  Measles containing vaccine 2nd dose(MCV2)  \\\n",
       "0  False       False                                      False   \n",
       "1  False       False                                      False   \n",
       "2  False       False                                      False   \n",
       "3  False       False                                      False   \n",
       "4  False       False                                      False   \n",
       "\n",
       "   Humanresources  Measles containing vaccine 1st dose(MCV1)  rcases  \n",
       "0           False                                      False   False  \n",
       "1           False                                      False   False  \n",
       "2           False                                      False   False  \n",
       "3           False                                      False   False  \n",
       "4           False                                      False   False  "
      ]
     },
     "execution_count": 73,
     "metadata": {},
     "output_type": "execute_result"
    }
   ],
   "source": [
    "df.isnull().head()"
   ]
  },
  {
   "cell_type": "code",
   "execution_count": 74,
   "metadata": {},
   "outputs": [
    {
     "data": {
      "text/plain": [
       "Date                                          1\n",
       "Population                                    1\n",
       "Measles containing vaccine 2nd dose(MCV2)     1\n",
       "Humanresources                               11\n",
       "Measles containing vaccine 1st dose(MCV1)     0\n",
       "rcases                                        1\n",
       "dtype: int64"
      ]
     },
     "execution_count": 74,
     "metadata": {},
     "output_type": "execute_result"
    }
   ],
   "source": [
    "df.isnull().sum()"
   ]
  },
  {
   "cell_type": "code",
   "execution_count": 75,
   "metadata": {},
   "outputs": [
    {
     "name": "stdout",
     "output_type": "stream",
     "text": [
      "Missing values before dropping rows: \n",
      "Date                                          1\n",
      "Population                                    1\n",
      "Measles containing vaccine 2nd dose(MCV2)     1\n",
      "Humanresources                               11\n",
      "Measles containing vaccine 1st dose(MCV1)     0\n",
      "rcases                                        1\n",
      "dtype: int64\n",
      "Missing values after dropping rows: \n",
      "Date                                         0\n",
      "Population                                   0\n",
      "Measles containing vaccine 2nd dose(MCV2)    0\n",
      "Humanresources                               0\n",
      "Measles containing vaccine 1st dose(MCV1)    0\n",
      "rcases                                       0\n",
      "dtype: int64\n"
     ]
    }
   ],
   "source": [
    "print(\"Missing values before dropping rows: \")\n",
    "print(df.isnull().sum())\n",
    "\n",
    "\n",
    "mod_df = df.dropna()\n",
    "print(\"Missing values after dropping rows: \")\n",
    "print(mod_df.isnull().sum())"
   ]
  },
  {
   "cell_type": "code",
   "execution_count": 76,
   "metadata": {},
   "outputs": [],
   "source": [
    "df.fillna(df.mean(), inplace=True)"
   ]
  },
  {
   "cell_type": "code",
   "execution_count": 77,
   "metadata": {},
   "outputs": [],
   "source": [
    "X = df[['Population','Measles containing vaccine 2nd dose(MCV2)','Humanresources','Measles containing vaccine 1st dose(MCV1)']]\n",
    "y = df[['rcases']]"
   ]
  },
  {
   "cell_type": "code",
   "execution_count": 78,
   "metadata": {},
   "outputs": [],
   "source": [
    "from sklearn.preprocessing import LabelEncoder\n",
    "from sklearn.ensemble import RandomForestClassifier\n",
    "from sklearn import metrics"
   ]
  },
  {
   "cell_type": "markdown",
   "metadata": {},
   "source": [
    "# Converting rcase to Categorical Data to be ran on in random forest and k-mean model"
   ]
  },
  {
   "cell_type": "code",
   "execution_count": 82,
   "metadata": {
    "scrolled": true
   },
   "outputs": [
    {
     "name": "stderr",
     "output_type": "stream",
     "text": [
      "C:\\Users\\roi_t\\Anaconda3\\lib\\site-packages\\ipykernel_launcher.py:8: SettingWithCopyWarning: \n",
      "A value is trying to be set on a copy of a slice from a DataFrame.\n",
      "Try using .loc[row_indexer,col_indexer] = value instead\n",
      "\n",
      "See the caveats in the documentation: http://pandas.pydata.org/pandas-docs/stable/indexing.html#indexing-view-versus-copy\n",
      "  \n"
     ]
    },
    {
     "data": {
      "text/html": [
       "<div>\n",
       "<style scoped>\n",
       "    .dataframe tbody tr th:only-of-type {\n",
       "        vertical-align: middle;\n",
       "    }\n",
       "\n",
       "    .dataframe tbody tr th {\n",
       "        vertical-align: top;\n",
       "    }\n",
       "\n",
       "    .dataframe thead th {\n",
       "        text-align: right;\n",
       "    }\n",
       "</style>\n",
       "<table border=\"1\" class=\"dataframe\">\n",
       "  <thead>\n",
       "    <tr style=\"text-align: right;\">\n",
       "      <th></th>\n",
       "      <th>Population</th>\n",
       "      <th>Measles containing vaccine 2nd dose(MCV2)</th>\n",
       "      <th>Humanresources</th>\n",
       "      <th>Measles containing vaccine 1st dose(MCV1)</th>\n",
       "    </tr>\n",
       "  </thead>\n",
       "  <tbody>\n",
       "    <tr>\n",
       "      <th>0</th>\n",
       "      <td>0</td>\n",
       "      <td>11</td>\n",
       "      <td>3</td>\n",
       "      <td>1</td>\n",
       "    </tr>\n",
       "    <tr>\n",
       "      <th>1</th>\n",
       "      <td>1</td>\n",
       "      <td>13</td>\n",
       "      <td>6</td>\n",
       "      <td>0</td>\n",
       "    </tr>\n",
       "    <tr>\n",
       "      <th>2</th>\n",
       "      <td>2</td>\n",
       "      <td>12</td>\n",
       "      <td>5</td>\n",
       "      <td>2</td>\n",
       "    </tr>\n",
       "    <tr>\n",
       "      <th>3</th>\n",
       "      <td>3</td>\n",
       "      <td>12</td>\n",
       "      <td>5</td>\n",
       "      <td>3</td>\n",
       "    </tr>\n",
       "    <tr>\n",
       "      <th>4</th>\n",
       "      <td>4</td>\n",
       "      <td>8</td>\n",
       "      <td>5</td>\n",
       "      <td>2</td>\n",
       "    </tr>\n",
       "  </tbody>\n",
       "</table>\n",
       "</div>"
      ],
      "text/plain": [
       "   Population  Measles containing vaccine 2nd dose(MCV2)  Humanresources  \\\n",
       "0           0                                         11               3   \n",
       "1           1                                         13               6   \n",
       "2           2                                         12               5   \n",
       "3           3                                         12               5   \n",
       "4           4                                          8               5   \n",
       "\n",
       "   Measles containing vaccine 1st dose(MCV1)  \n",
       "0                                          1  \n",
       "1                                          0  \n",
       "2                                          2  \n",
       "3                                          3  \n",
       "4                                          2  "
      ]
     },
     "execution_count": 82,
     "metadata": {},
     "output_type": "execute_result"
    }
   ],
   "source": [
    "def encode(df, columns):\n",
    "    for col in columns:\n",
    "        le = LabelEncoder()\n",
    "        col_values_unique = list(df[col].unique())\n",
    "        le_fitted = le.fit(col_values_unique)\n",
    "        col_values = list(df[col].values)\n",
    "        col_values_transformed = le.transform(col_values)\n",
    "        df[col] = col_values_transformed\n",
    "\n",
    "\n",
    "features = df[['Population','Measles containing vaccine 2nd dose(MCV2)','Humanresources','Measles containing vaccine 1st dose(MCV1)']]\n",
    "\n",
    "encode(features, features.columns.values)\n",
    "\n",
    "target = df[['rcases']]\n",
    "\n",
    "encode(target, target.columns.values)\n",
    "\n",
    "#Predicting the population\n",
    "features_train, features_test, target_train, target_test = train_test_split(features, target, test_size = 0.33, random_state = 10)\n",
    "\n",
    "features.head()"
   ]
  },
  {
   "cell_type": "code",
   "execution_count": 83,
   "metadata": {},
   "outputs": [],
   "source": [
    "# split X and y into training and testing sets\n",
    "from sklearn.model_selection import train_test_split\n",
    "X_train, X_test, y_train, y_test = train_test_split(X, y, test_size=0.20, random_state=1)"
   ]
  },
  {
   "cell_type": "code",
   "execution_count": 84,
   "metadata": {},
   "outputs": [
    {
     "name": "stderr",
     "output_type": "stream",
     "text": [
      "C:\\Users\\roi_t\\Anaconda3\\lib\\site-packages\\sklearn\\ensemble\\forest.py:245: FutureWarning: The default value of n_estimators will change from 10 in version 0.20 to 100 in 0.22.\n",
      "  \"10 in version 0.20 to 100 in 0.22.\", FutureWarning)\n",
      "C:\\Users\\roi_t\\Anaconda3\\lib\\site-packages\\ipykernel_launcher.py:9: DataConversionWarning: A column-vector y was passed when a 1d array was expected. Please change the shape of y to (n_samples,), for example using ravel().\n",
      "  if __name__ == '__main__':\n"
     ]
    },
    {
     "data": {
      "text/plain": [
       "array([10,  1, 11, 10, 10, 10,  0], dtype=int64)"
      ]
     },
     "execution_count": 84,
     "metadata": {},
     "output_type": "execute_result"
    }
   ],
   "source": [
    "#Random Forest Training\n",
    "\n",
    "#from sklearn.ensemble import RandomForestClassifier\n",
    "\n",
    "# instantiate model\n",
    "model = RandomForestClassifier(random_state=1, max_depth=10)\n",
    "\n",
    "# fit model\n",
    "model.fit(features_train, target_train)\n",
    "\n",
    "y_pred = model.predict(features_test)\n",
    "y_pred"
   ]
  },
  {
   "cell_type": "code",
   "execution_count": 85,
   "metadata": {
    "scrolled": true
   },
   "outputs": [
    {
     "name": "stdout",
     "output_type": "stream",
     "text": [
      "Accuracy Score for random forest training = 0.0\n"
     ]
    }
   ],
   "source": [
    "print(\"Accuracy Score for random forest training = \" + str(metrics.accuracy_score(target_test, y_pred)))"
   ]
  },
  {
   "cell_type": "code",
   "execution_count": 86,
   "metadata": {},
   "outputs": [],
   "source": [
    "from sklearn.neighbors import KNeighborsClassifier"
   ]
  },
  {
   "cell_type": "code",
   "execution_count": 87,
   "metadata": {},
   "outputs": [
    {
     "name": "stderr",
     "output_type": "stream",
     "text": [
      "C:\\Users\\roi_t\\Anaconda3\\lib\\site-packages\\ipykernel_launcher.py:2: DataConversionWarning: A column-vector y was passed when a 1d array was expected. Please change the shape of y to (n_samples, ), for example using ravel().\n",
      "  \n"
     ]
    },
    {
     "data": {
      "text/plain": [
       "array([0, 0, 0, 0, 0, 0, 0], dtype=int64)"
      ]
     },
     "execution_count": 87,
     "metadata": {},
     "output_type": "execute_result"
    }
   ],
   "source": [
    "model = KNeighborsClassifier(n_neighbors=10)\n",
    "model.fit(features_train, target_train)\n",
    "y_pred = model.predict(features_test)\n",
    "y_pred"
   ]
  },
  {
   "cell_type": "code",
   "execution_count": 88,
   "metadata": {},
   "outputs": [
    {
     "name": "stdout",
     "output_type": "stream",
     "text": [
      "Accuracy Score  = 0.0\n"
     ]
    }
   ],
   "source": [
    "print(\"Accuracy Score  = \" + str(metrics.accuracy_score(target_test, y_pred)))"
   ]
  },
  {
   "cell_type": "code",
   "execution_count": 89,
   "metadata": {},
   "outputs": [
    {
     "data": {
      "text/plain": [
       "array([0, 0, 0, 0], dtype=int64)"
      ]
     },
     "execution_count": 89,
     "metadata": {},
     "output_type": "execute_result"
    }
   ],
   "source": [
    "# make predictions for the testing set\n",
    "y_pred = model.predict(X_test)\n",
    "y_pred"
   ]
  },
  {
   "cell_type": "code",
   "execution_count": 90,
   "metadata": {},
   "outputs": [
    {
     "name": "stdout",
     "output_type": "stream",
     "text": [
      "0.0\n"
     ]
    }
   ],
   "source": [
    "# calculate accuracy\n",
    "from sklearn import metrics\n",
    "print(metrics.accuracy_score(y_test, y_pred))"
   ]
  }
 ],
 "metadata": {
  "kernelspec": {
   "display_name": "Python 3",
   "language": "python",
   "name": "python3"
  },
  "language_info": {
   "codemirror_mode": {
    "name": "ipython",
    "version": 3
   },
   "file_extension": ".py",
   "mimetype": "text/x-python",
   "name": "python",
   "nbconvert_exporter": "python",
   "pygments_lexer": "ipython3",
   "version": "3.7.4"
  }
 },
 "nbformat": 4,
 "nbformat_minor": 2
}
